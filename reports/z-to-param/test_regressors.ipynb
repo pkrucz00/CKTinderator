{
 "cells": [
  {
   "cell_type": "markdown",
   "metadata": {},
   "source": [
    "# Testing regressors\n",
    "\n",
    "Which of the regressors will be the best to encode a face? Let's find out!\n",
    "\n",
    "This notebook prexents a very naive approach, i.e. we will measure how good a regressor is by the MSE on a game face. The problem is the regressors will be used for real faces, which may casuse the regressor to not be able to infer any meaningful results if overfitted. \n",
    "\n",
    "\n",
    "My plan:\n",
    "1. Get the datasets `X_faces`, `X_z` and `Y` from the training set.\n",
    "2. Get regressors: M_LR, M_OMP, M_RF, M_MLP with default values (at least for now)\n",
    "3. Train the regressors on `X_faces[:1000]` and `Y[:1000]`\n",
    "4. Test the regressors on `X_faces[1000:]` and `Y[1000:]` \n",
    "5. Train the regressors on `X_z[:5000]` and `Y[:5000]`\n",
    "6. Test the regressors on `X_z[5000:]` and `Y[5000:]`\n",
    "7. Compare the results by creating a table with MSE, R2, and time of training and testing.\n",
    "\n",
    "\n",
    "TODO:\n",
    " 1. e2e tests\n",
    " 2. cross-validation for finding best parameters of the best regressors"
   ]
  },
  {
   "cell_type": "markdown",
   "metadata": {},
   "source": [
    "## 1. Preparation"
   ]
  },
  {
   "cell_type": "code",
   "execution_count": 1,
   "metadata": {},
   "outputs": [],
   "source": [
    "import glob\n",
    "import numpy as np\n",
    "import matplotlib.pyplot as plt\n",
    "import pickle\n",
    "\n",
    "from time import time\n",
    "from tqdm import tqdm\n",
    "\n",
    "from sklearn.linear_model import LinearRegression, OrthogonalMatchingPursuit\n",
    "from sklearn.ensemble import RandomForestRegressor\n",
    "from sklearn.neural_network import MLPRegressor\n",
    "\n",
    "from sklearn.preprocessing import Normalizer\n",
    "from sklearn.model_selection import train_test_split\n",
    "from sklearn.metrics import mean_squared_error\n",
    "\n",
    "from pathlib import Path\n",
    "import json"
   ]
  },
  {
   "cell_type": "code",
   "execution_count": 3,
   "metadata": {},
   "outputs": [
    {
     "name": "stdout",
     "output_type": "stream",
     "text": [
      "(100000, 65536) (11600, 256) (100000, 5)\n"
     ]
    }
   ],
   "source": [
    "def load_and_concatenate(folder_path):\n",
    "    file_paths = glob.glob(folder_path + '/*.npy')\n",
    "    arrays = [np.load(file_path) for file_path in file_paths]\n",
    "    concatenated_array = np.concatenate(arrays)\n",
    "    return concatenated_array\n",
    "\n",
    "\n",
    "def load_data():\n",
    "    permute = np.load(\"permuted_100000.npy\")\n",
    "    \n",
    "    X_faces = np.load(\"/media/pawel/DATA/tmp/freddie_mercuries/naive_input.npy\")[permute]\n",
    "    X_z = load_and_concatenate(\"/media/pawel/DATA/tmp/freddie_mercuries/en_face/new_vectors\")\n",
    "    Y = np.load(\"./data/outvec.npy\")[permute]\n",
    "    \n",
    "    return X_faces, X_z, Y\n",
    "\n",
    "\n",
    "X_faces, X_z, Y = load_data()\n",
    "print(X_faces.shape, X_z.shape, Y.shape)"
   ]
  },
  {
   "cell_type": "code",
   "execution_count": 13,
   "metadata": {},
   "outputs": [],
   "source": [
    "def get_regressors():\n",
    "    regressors = [\n",
    "        # LinearRegression(),\n",
    "        # OrthogonalMatchingPursuit(),\n",
    "        # RandomForestRegressor(),\n",
    "        MLPRegressor(hidden_layer_sizes=(128, 64, 32), max_iter=400, alpha=0.1, verbose=True)\n",
    "    ]\n",
    "    return regressors\n",
    "\n",
    "regressors = get_regressors()"
   ]
  },
  {
   "cell_type": "markdown",
   "metadata": {},
   "source": [
    "## 2. Training\n",
    "\n"
   ]
  },
  {
   "cell_type": "code",
   "execution_count": 9,
   "metadata": {},
   "outputs": [],
   "source": [
    "def save_model(model, path):\n",
    "    Path(path).parent.mkdir(parents=True, exist_ok=True)\n",
    "    with open(path, 'wb') as f:\n",
    "        pickle.dump(model, f)\n",
    "    \n",
    "def save_models(models, path):\n",
    "    for name, model in models.items():\n",
    "        save_model(model['model'], path + name + \".pickle\")\n",
    "        \n",
    "def save_results(results: dict, path):\n",
    "    Path(path).parent.mkdir(parents=True, exist_ok=True)\n",
    "    with open(path, 'w') as f:\n",
    "        json.dump(results, f, default=lambda o: '<not serializable>')"
   ]
  },
  {
   "cell_type": "code",
   "execution_count": 10,
   "metadata": {},
   "outputs": [],
   "source": [
    "def train_and_validate(X, Y, regressors, X_test=None, Y_test=None):\n",
    "    X_train, X_valid, Y_train, Y_valid = train_test_split(X, Y, test_size=0.2, random_state=42)\n",
    "    \n",
    "    normalizer = Normalizer()\n",
    "    X_train = normalizer.fit_transform(X_train)\n",
    "    X_valid = normalizer.transform(X_valid)\n",
    "    X_test = normalizer.transform(X_test) if X_test is not None else None\n",
    "    save_model(normalizer, \"normalizer.pickle\")\n",
    "    \n",
    "    models = { f\"{regressor.__class__.__name__}_{i}\": {\n",
    "        \"scores\": {\n",
    "            \"train\": {},\n",
    "            \"valid\": {},\n",
    "            \"test\": {}\n",
    "            }\n",
    "        }      for i, regressor in enumerate(regressors) }\n",
    "    \n",
    "    for i, regressor in enumerate(regressors):\n",
    "        name = f\"{regressor.__class__.__name__}_{i}\"\n",
    "        print(f\"Model: {name}\")\n",
    "        \n",
    "        print(f\"Training ...\")\n",
    "        t1 = time()\n",
    "        regressor.fit(X_train, Y_train)\n",
    "        models[name][\"scores\"][\"train\"][\"time\"] = time() - t1\n",
    "        models[name][\"model\"] = regressor\n",
    "        models[name][\"scores\"][\"train\"][\"mse\"] = mean_squared_error(Y_train, regressor.predict(X_train))\n",
    "        models[name][\"scores\"][\"train\"][\"r2\"] = regressor.score(X_train, Y_train)\n",
    "        \n",
    "        print(\"Testing...\")\n",
    "        Y_pred = regressor.predict(X_valid)\n",
    "        models[name][\"scores\"]['valid'][\"mse\"] = mean_squared_error(Y_valid, Y_pred)\n",
    "        models[name][\"scores\"]['valid'][\"r2\"] = regressor.score(X_valid, Y_valid)\n",
    "\n",
    "        print(f\"MSE   train: {models[name]['scores']['train']['mse']:6f}   validation: {models[name]['scores']['valid']['mse']:6f}\")\n",
    "        print(f\"R2    train: {models[name]['scores']['train']['r2']:6f}   validation: {models[name]['scores']['valid']['r2']:6f}\")\n",
    "        print(f\"Training {name} took {models[name]['scores']['train']['time']:4f} s\")\n",
    "        \n",
    "        if X_test is not None and Y_test is not None:\n",
    "            print(f\"Testing on provided data...\")\n",
    "            Y_pred = regressor.predict(X_test)\n",
    "            models[name][\"scores\"][\"test\"][\"mse\"] = mean_squared_error(Y_test, Y_pred)\n",
    "            models[name][\"scores\"][\"test\"][\"r2\"] = regressor.score(X_test, Y_test)\n",
    "            print(f\"MSE   test: {models[name]['scores']['test']['mse']:6f}\")\n",
    "            print(f\"R2    test: {models[name]['scores']['test']['r2']:6f}\")\n",
    "        print(\"-----------------------\")\n",
    "        \n",
    "    return models"
   ]
  },
  {
   "cell_type": "markdown",
   "metadata": {},
   "source": [
    "\n",
    "### Faces"
   ]
  },
  {
   "cell_type": "code",
   "execution_count": 11,
   "metadata": {},
   "outputs": [
    {
     "name": "stdout",
     "output_type": "stream",
     "text": [
      "Model: MLPRegressor_0\n",
      "Training ...\n",
      "Iteration 1, loss = 9644.69533181\n",
      "Iteration 2, loss = 9572.03367847\n",
      "Iteration 3, loss = 9463.76584184\n",
      "Iteration 4, loss = 9299.48036068\n"
     ]
    },
    {
     "name": "stderr",
     "output_type": "stream",
     "text": [
      "/home/pawel/Documents/studia/magisterka/CKTinderator/venv/lib/python3.11/site-packages/sklearn/neural_network/_multilayer_perceptron.py:698: UserWarning: Training interrupted by user.\n",
      "  warnings.warn(\"Training interrupted by user.\")\n"
     ]
    },
    {
     "name": "stdout",
     "output_type": "stream",
     "text": [
      "Testing...\n",
      "MSE   train: 18041.205635   validation: 17787.275448\n",
      "R2    train: -5.206300   validation: -5.120522\n",
      "Training MLPRegressor_0 took 8.749717 s\n",
      "Testing on provided data...\n",
      "MSE   test: 17808.284763\n",
      "R2    test: -5.084066\n",
      "-----------------------\n"
     ]
    }
   ],
   "source": [
    "FACES_TEST_SIZE = 1000\n",
    "\n",
    "X_face_train, X_face_test, Y_face_train, Y_face_test = X_faces[:FACES_TEST_SIZE], X_faces[FACES_TEST_SIZE:], Y[:FACES_TEST_SIZE], Y[FACES_TEST_SIZE:]\n",
    "face_models = train_and_validate(X_face_train, Y_face_train, regressors, X_test=X_face_test[:1000], Y_test=Y_face_test[:1000])\n"
   ]
  },
  {
   "cell_type": "markdown",
   "metadata": {},
   "source": [
    "### Z"
   ]
  },
  {
   "cell_type": "code",
   "execution_count": 14,
   "metadata": {},
   "outputs": [
    {
     "name": "stdout",
     "output_type": "stream",
     "text": [
      "Model: MLPRegressor_0\n",
      "Training ...\n",
      "Iteration 1, loss = 9622.14717589\n"
     ]
    },
    {
     "name": "stdout",
     "output_type": "stream",
     "text": [
      "Iteration 2, loss = 9613.31542408\n",
      "Iteration 3, loss = 9605.34311457\n",
      "Iteration 4, loss = 9597.35928477\n",
      "Iteration 5, loss = 9588.63348957\n",
      "Iteration 6, loss = 9579.10892435\n",
      "Iteration 7, loss = 9568.83714320\n",
      "Iteration 8, loss = 9557.62847920\n",
      "Iteration 9, loss = 9544.79718382\n",
      "Iteration 10, loss = 9529.48313434\n",
      "Iteration 11, loss = 9510.83358579\n",
      "Iteration 12, loss = 9488.13623405\n",
      "Iteration 13, loss = 9460.28292609\n",
      "Iteration 14, loss = 9425.72478259\n",
      "Iteration 15, loss = 9383.79563154\n",
      "Iteration 16, loss = 9332.26003266\n",
      "Iteration 17, loss = 9269.61310581\n",
      "Iteration 18, loss = 9193.20116730\n",
      "Iteration 19, loss = 9101.20966928\n",
      "Iteration 20, loss = 8990.40242116\n",
      "Iteration 21, loss = 8858.67909574\n",
      "Iteration 22, loss = 8701.89960008\n",
      "Iteration 23, loss = 8519.57315710\n",
      "Iteration 24, loss = 8303.29941235\n",
      "Iteration 25, loss = 8055.45529162\n",
      "Iteration 26, loss = 7770.84166127\n",
      "Iteration 27, loss = 7445.16449280\n",
      "Iteration 28, loss = 7081.80876184\n",
      "Iteration 29, loss = 6677.73628414\n",
      "Iteration 30, loss = 6240.22185287\n",
      "Iteration 31, loss = 5762.32546122\n",
      "Iteration 32, loss = 5266.04578204\n",
      "Iteration 33, loss = 4749.98887817\n",
      "Iteration 34, loss = 4234.69219385\n",
      "Iteration 35, loss = 3736.69301987\n",
      "Iteration 36, loss = 3278.76398296\n",
      "Iteration 37, loss = 2880.43189291\n",
      "Iteration 38, loss = 2551.11333819\n",
      "Iteration 39, loss = 2319.16800424\n",
      "Iteration 40, loss = 2170.93815288\n",
      "Iteration 41, loss = 2091.01068074\n",
      "Iteration 42, loss = 2042.80880501\n",
      "Iteration 43, loss = 2002.22877868\n",
      "Iteration 44, loss = 1951.81019682\n",
      "Iteration 45, loss = 1891.27893061\n",
      "Iteration 46, loss = 1831.85389080\n",
      "Iteration 47, loss = 1775.15147832\n",
      "Iteration 48, loss = 1728.79458203\n",
      "Iteration 49, loss = 1694.27983822\n",
      "Iteration 50, loss = 1669.29598428\n",
      "Iteration 51, loss = 1644.57767576\n",
      "Iteration 52, loss = 1623.78320111\n",
      "Iteration 53, loss = 1604.09557598\n",
      "Iteration 54, loss = 1584.45789032\n",
      "Iteration 55, loss = 1564.95145795\n",
      "Iteration 56, loss = 1548.50660662\n",
      "Iteration 57, loss = 1532.29957391\n",
      "Iteration 58, loss = 1517.77847168\n",
      "Iteration 59, loss = 1504.11995927\n",
      "Iteration 60, loss = 1491.38938818\n",
      "Iteration 61, loss = 1478.94816655\n",
      "Iteration 62, loss = 1467.46941950\n",
      "Iteration 63, loss = 1456.83590442\n",
      "Iteration 64, loss = 1446.57899318\n",
      "Iteration 65, loss = 1436.76323375\n",
      "Iteration 66, loss = 1427.10370904\n",
      "Iteration 67, loss = 1418.59383446\n",
      "Iteration 68, loss = 1410.09856023\n",
      "Iteration 69, loss = 1401.96864811\n",
      "Iteration 70, loss = 1394.03954845\n",
      "Iteration 71, loss = 1386.43526671\n",
      "Iteration 72, loss = 1379.68122235\n",
      "Iteration 73, loss = 1372.69819823\n",
      "Iteration 74, loss = 1366.08225621\n",
      "Iteration 75, loss = 1360.01391478\n",
      "Iteration 76, loss = 1354.07198491\n",
      "Iteration 77, loss = 1348.24739834\n",
      "Iteration 78, loss = 1342.77790420\n",
      "Iteration 79, loss = 1337.70327136\n",
      "Iteration 80, loss = 1332.63486714\n",
      "Iteration 81, loss = 1327.82744849\n",
      "Iteration 82, loss = 1323.03932974\n",
      "Iteration 83, loss = 1318.67206895\n",
      "Iteration 84, loss = 1314.42761860\n",
      "Iteration 85, loss = 1310.44345264\n",
      "Iteration 86, loss = 1306.33230163\n",
      "Iteration 87, loss = 1302.46264000\n",
      "Iteration 88, loss = 1299.13309790\n",
      "Iteration 89, loss = 1295.43788220\n",
      "Iteration 90, loss = 1292.03433755\n",
      "Iteration 91, loss = 1288.65005243\n",
      "Iteration 92, loss = 1285.66320611\n",
      "Iteration 93, loss = 1282.51765908\n",
      "Iteration 94, loss = 1279.52692202\n",
      "Iteration 95, loss = 1276.65406627\n",
      "Iteration 96, loss = 1273.94465680\n",
      "Iteration 97, loss = 1271.36105591\n",
      "Iteration 98, loss = 1268.63256118\n",
      "Iteration 99, loss = 1266.19566442\n",
      "Iteration 100, loss = 1263.73895848\n",
      "Iteration 101, loss = 1261.54255780\n",
      "Iteration 102, loss = 1259.21891056\n",
      "Iteration 103, loss = 1256.94792239\n",
      "Iteration 104, loss = 1254.87781730\n",
      "Iteration 105, loss = 1252.85965660\n",
      "Iteration 106, loss = 1250.97534072\n",
      "Iteration 107, loss = 1249.08516477\n",
      "Iteration 108, loss = 1247.16841269\n",
      "Iteration 109, loss = 1245.30992671\n",
      "Iteration 110, loss = 1243.68067083\n",
      "Iteration 111, loss = 1241.93028179\n",
      "Iteration 112, loss = 1240.26658178\n",
      "Iteration 113, loss = 1238.70484963\n",
      "Iteration 114, loss = 1237.05840773\n",
      "Iteration 115, loss = 1235.60114488\n",
      "Iteration 116, loss = 1234.02355582\n",
      "Iteration 117, loss = 1232.52594915\n",
      "Iteration 118, loss = 1231.17817773\n",
      "Iteration 119, loss = 1229.64088149\n",
      "Iteration 120, loss = 1228.33101371\n",
      "Iteration 121, loss = 1226.84786265\n",
      "Iteration 122, loss = 1225.62667441\n",
      "Iteration 123, loss = 1224.30580882\n",
      "Iteration 124, loss = 1223.05962496\n",
      "Iteration 125, loss = 1221.75791325\n",
      "Iteration 126, loss = 1220.50473530\n",
      "Iteration 127, loss = 1219.30591123\n",
      "Iteration 128, loss = 1218.06499298\n",
      "Iteration 129, loss = 1216.89428436\n",
      "Iteration 130, loss = 1215.67248827\n",
      "Iteration 131, loss = 1214.66879913\n",
      "Iteration 132, loss = 1213.45644301\n",
      "Iteration 133, loss = 1212.32612982\n",
      "Iteration 134, loss = 1211.22822325\n",
      "Iteration 135, loss = 1210.23278357\n",
      "Iteration 136, loss = 1208.95387213\n",
      "Iteration 137, loss = 1207.96250568\n",
      "Iteration 138, loss = 1206.92426114\n",
      "Iteration 139, loss = 1205.96848264\n",
      "Iteration 140, loss = 1204.78695599\n",
      "Iteration 141, loss = 1203.69837095\n",
      "Iteration 142, loss = 1202.55968171\n",
      "Iteration 143, loss = 1201.39769474\n",
      "Iteration 144, loss = 1200.39720620\n",
      "Iteration 145, loss = 1199.28975254\n",
      "Iteration 146, loss = 1198.11665369\n",
      "Iteration 147, loss = 1197.04369735\n",
      "Iteration 148, loss = 1195.91425663\n",
      "Iteration 149, loss = 1194.85173725\n",
      "Iteration 150, loss = 1193.65231910\n",
      "Iteration 151, loss = 1192.51341859\n",
      "Iteration 152, loss = 1191.35434969\n",
      "Iteration 153, loss = 1190.18724905\n",
      "Iteration 154, loss = 1189.04971394\n",
      "Iteration 155, loss = 1187.91337169\n",
      "Iteration 156, loss = 1186.65411074\n",
      "Iteration 157, loss = 1185.45512318\n",
      "Iteration 158, loss = 1184.27535975\n",
      "Iteration 159, loss = 1182.98391387\n",
      "Iteration 160, loss = 1181.63279626\n",
      "Iteration 161, loss = 1180.35688421\n",
      "Iteration 162, loss = 1178.97690165\n",
      "Iteration 163, loss = 1177.63647838\n",
      "Iteration 164, loss = 1176.28400837\n",
      "Iteration 165, loss = 1174.74666442\n",
      "Iteration 166, loss = 1173.29113381\n",
      "Iteration 167, loss = 1171.72498378\n",
      "Iteration 168, loss = 1170.26998993\n",
      "Iteration 169, loss = 1168.67525473\n",
      "Iteration 170, loss = 1167.08864639\n",
      "Iteration 171, loss = 1165.56782010\n",
      "Iteration 172, loss = 1163.93621806\n",
      "Iteration 173, loss = 1162.13649958\n",
      "Iteration 174, loss = 1160.47264136\n",
      "Iteration 175, loss = 1158.61811417\n",
      "Iteration 176, loss = 1156.75476421\n",
      "Iteration 177, loss = 1154.87126931\n",
      "Iteration 178, loss = 1152.73895444\n",
      "Iteration 179, loss = 1150.74307293\n",
      "Iteration 180, loss = 1148.79906227\n",
      "Iteration 181, loss = 1146.72891905\n",
      "Iteration 182, loss = 1144.45617907\n",
      "Iteration 183, loss = 1142.08068394\n",
      "Iteration 184, loss = 1139.61395522\n",
      "Iteration 185, loss = 1137.01522161\n",
      "Iteration 186, loss = 1134.50782577\n",
      "Iteration 187, loss = 1131.88294873\n",
      "Iteration 188, loss = 1128.94228849\n",
      "Iteration 189, loss = 1126.07456836\n",
      "Iteration 190, loss = 1123.04605393\n",
      "Iteration 191, loss = 1120.09564146\n",
      "Iteration 192, loss = 1116.64083521\n",
      "Iteration 193, loss = 1113.56407625\n",
      "Iteration 194, loss = 1110.03069989\n",
      "Iteration 195, loss = 1106.37879410\n",
      "Iteration 196, loss = 1102.73682151\n",
      "Iteration 197, loss = 1098.75304560\n",
      "Iteration 198, loss = 1094.87921762\n",
      "Iteration 199, loss = 1090.84202488\n",
      "Iteration 200, loss = 1086.72425473\n",
      "Iteration 201, loss = 1082.34904671\n",
      "Iteration 202, loss = 1078.06045634\n",
      "Iteration 203, loss = 1073.80319800\n",
      "Iteration 204, loss = 1069.22520747\n",
      "Iteration 205, loss = 1064.64823639\n",
      "Iteration 206, loss = 1059.98261132\n",
      "Iteration 207, loss = 1055.42086281\n",
      "Iteration 208, loss = 1050.43384522\n",
      "Iteration 209, loss = 1045.79078232\n",
      "Iteration 210, loss = 1040.73892219\n",
      "Iteration 211, loss = 1035.69518966\n",
      "Iteration 212, loss = 1030.95056363\n",
      "Iteration 213, loss = 1025.98207267\n",
      "Iteration 214, loss = 1020.78123355\n",
      "Iteration 215, loss = 1015.79214863\n",
      "Iteration 216, loss = 1010.84938146\n",
      "Iteration 217, loss = 1005.84802151\n",
      "Iteration 218, loss = 1001.06426251\n",
      "Iteration 219, loss = 996.36400060\n",
      "Iteration 220, loss = 991.67700576\n",
      "Iteration 221, loss = 987.16648697\n",
      "Iteration 222, loss = 982.58499357\n",
      "Iteration 223, loss = 977.58419521\n",
      "Iteration 224, loss = 973.92096008\n",
      "Iteration 225, loss = 969.27746195\n",
      "Iteration 226, loss = 965.34719631\n",
      "Iteration 227, loss = 961.41818041\n",
      "Iteration 228, loss = 957.88120801\n",
      "Iteration 229, loss = 954.36602566\n",
      "Iteration 230, loss = 951.08939555\n",
      "Iteration 231, loss = 947.76687196\n",
      "Iteration 232, loss = 944.61460528\n",
      "Iteration 233, loss = 941.76414035\n",
      "Iteration 234, loss = 938.77117948\n",
      "Iteration 235, loss = 935.97388981\n",
      "Iteration 236, loss = 933.24250986\n",
      "Iteration 237, loss = 930.60501704\n",
      "Iteration 238, loss = 928.11473118\n",
      "Iteration 239, loss = 925.46810043\n",
      "Iteration 240, loss = 923.11553574\n",
      "Iteration 241, loss = 920.36981730\n",
      "Iteration 242, loss = 917.86205033\n",
      "Iteration 243, loss = 914.92162283\n",
      "Iteration 244, loss = 912.52355486\n",
      "Iteration 245, loss = 910.04749234\n",
      "Iteration 246, loss = 907.36899499\n",
      "Iteration 247, loss = 904.68967682\n",
      "Iteration 248, loss = 901.71543879\n",
      "Iteration 249, loss = 898.91319970\n",
      "Iteration 250, loss = 896.07649878\n",
      "Iteration 251, loss = 893.14146655\n",
      "Iteration 252, loss = 890.16409951\n",
      "Iteration 253, loss = 887.14745485\n",
      "Iteration 254, loss = 883.94550653\n",
      "Iteration 255, loss = 880.35356418\n",
      "Iteration 256, loss = 876.92062222\n",
      "Iteration 257, loss = 873.25081766\n",
      "Iteration 258, loss = 869.49841550\n",
      "Iteration 259, loss = 865.75541970\n",
      "Iteration 260, loss = 861.59710631\n",
      "Iteration 261, loss = 857.61840280\n",
      "Iteration 262, loss = 853.22881453\n",
      "Iteration 263, loss = 848.79935984\n",
      "Iteration 264, loss = 844.31991147\n",
      "Iteration 265, loss = 839.51529206\n",
      "Iteration 266, loss = 834.63267075\n",
      "Iteration 267, loss = 829.60960987\n",
      "Iteration 268, loss = 824.36652875\n",
      "Iteration 269, loss = 819.17190852\n",
      "Iteration 270, loss = 813.97098735\n",
      "Iteration 271, loss = 808.12183822\n",
      "Iteration 272, loss = 802.43698412\n",
      "Iteration 273, loss = 796.63467954\n",
      "Iteration 274, loss = 790.81935745\n",
      "Iteration 275, loss = 784.73899751\n",
      "Iteration 276, loss = 778.64456837\n",
      "Iteration 277, loss = 772.84068259\n",
      "Iteration 278, loss = 766.66464099\n",
      "Iteration 279, loss = 760.71133379\n",
      "Iteration 280, loss = 754.67345926\n",
      "Iteration 281, loss = 748.90862862\n",
      "Iteration 282, loss = 742.84420841\n",
      "Iteration 283, loss = 737.19577237\n",
      "Iteration 284, loss = 732.03002147\n",
      "Iteration 285, loss = 726.93496938\n",
      "Iteration 286, loss = 721.62849123\n",
      "Iteration 287, loss = 716.43416098\n",
      "Iteration 288, loss = 711.97767487\n",
      "Iteration 289, loss = 707.39709107\n",
      "Iteration 290, loss = 702.71171743\n",
      "Iteration 291, loss = 698.49572550\n",
      "Iteration 292, loss = 694.63558622\n",
      "Iteration 293, loss = 690.82149473\n",
      "Iteration 294, loss = 687.13174349\n",
      "Iteration 295, loss = 683.85981615\n",
      "Iteration 296, loss = 680.77558589\n",
      "Iteration 297, loss = 677.86704746\n",
      "Iteration 298, loss = 675.08936466\n",
      "Iteration 299, loss = 672.58963723\n",
      "Iteration 300, loss = 670.19133651\n",
      "Iteration 301, loss = 667.90571065\n",
      "Iteration 302, loss = 665.68440293\n",
      "Iteration 303, loss = 663.71534703\n",
      "Iteration 304, loss = 661.62923355\n",
      "Iteration 305, loss = 659.89628510\n",
      "Iteration 306, loss = 658.06462222\n",
      "Iteration 307, loss = 656.32926892\n",
      "Iteration 308, loss = 654.63695167\n",
      "Iteration 309, loss = 652.96595835\n",
      "Iteration 310, loss = 651.60096403\n",
      "Iteration 311, loss = 649.97775380\n",
      "Iteration 312, loss = 648.55102955\n",
      "Iteration 313, loss = 647.10002276\n",
      "Iteration 314, loss = 645.71794606\n",
      "Iteration 315, loss = 644.35592375\n",
      "Iteration 316, loss = 643.00510057\n",
      "Iteration 317, loss = 641.85553764\n",
      "Iteration 318, loss = 640.41422977\n",
      "Iteration 319, loss = 639.15359303\n",
      "Iteration 320, loss = 638.22638370\n",
      "Iteration 321, loss = 636.92194932\n",
      "Iteration 322, loss = 635.24234533\n",
      "Iteration 323, loss = 634.29804819\n",
      "Iteration 324, loss = 633.35731478\n",
      "Iteration 325, loss = 631.96490595\n",
      "Iteration 326, loss = 630.83716368\n",
      "Iteration 327, loss = 629.79596086\n",
      "Iteration 328, loss = 628.66168301\n",
      "Iteration 329, loss = 627.24306508\n",
      "Iteration 330, loss = 626.07088564\n",
      "Iteration 331, loss = 624.88669533\n",
      "Iteration 332, loss = 623.77454932\n",
      "Iteration 333, loss = 622.80638827\n",
      "Iteration 334, loss = 621.57932762\n",
      "Iteration 335, loss = 620.54181493\n",
      "Iteration 336, loss = 619.51827015\n",
      "Iteration 337, loss = 618.33346443\n",
      "Iteration 338, loss = 617.17194837\n",
      "Iteration 339, loss = 616.02512097\n",
      "Iteration 340, loss = 614.80916755\n",
      "Iteration 341, loss = 613.57371436\n",
      "Iteration 342, loss = 612.45451495\n",
      "Iteration 343, loss = 611.15515687\n",
      "Iteration 344, loss = 609.89797934\n",
      "Iteration 345, loss = 608.88568131\n",
      "Iteration 346, loss = 607.94896584\n",
      "Iteration 347, loss = 606.29655609\n",
      "Iteration 348, loss = 605.17742604\n",
      "Iteration 349, loss = 603.79291122\n",
      "Iteration 350, loss = 602.56105027\n",
      "Iteration 351, loss = 601.23266377\n",
      "Iteration 352, loss = 599.80868722\n",
      "Iteration 353, loss = 598.11812176\n",
      "Iteration 354, loss = 596.62923855\n",
      "Iteration 355, loss = 595.22737180\n",
      "Iteration 356, loss = 593.48103316\n",
      "Iteration 357, loss = 591.87984649\n",
      "Iteration 358, loss = 590.25586595\n",
      "Iteration 359, loss = 588.57942324\n",
      "Iteration 360, loss = 587.00590841\n",
      "Iteration 361, loss = 585.07603181\n",
      "Iteration 362, loss = 583.13483398\n",
      "Iteration 363, loss = 581.23788778\n",
      "Iteration 364, loss = 579.06844077\n",
      "Iteration 365, loss = 577.28712153\n",
      "Iteration 366, loss = 575.19404183\n",
      "Iteration 367, loss = 572.80397828\n",
      "Iteration 368, loss = 570.58545123\n",
      "Iteration 369, loss = 568.09488704\n",
      "Iteration 370, loss = 565.67406299\n",
      "Iteration 371, loss = 563.13131294\n",
      "Iteration 372, loss = 560.62207860\n",
      "Iteration 373, loss = 557.86800359\n",
      "Iteration 374, loss = 555.01197205\n",
      "Iteration 375, loss = 552.26099988\n",
      "Iteration 376, loss = 549.38860263\n",
      "Iteration 377, loss = 546.28552799\n",
      "Iteration 378, loss = 542.75832147\n",
      "Iteration 379, loss = 539.33361839\n",
      "Iteration 380, loss = 535.39554477\n",
      "Iteration 381, loss = 531.97630033\n",
      "Iteration 382, loss = 528.06824789\n",
      "Iteration 383, loss = 523.86053325\n",
      "Iteration 384, loss = 519.72947138\n",
      "Iteration 385, loss = 515.70251239\n",
      "Iteration 386, loss = 510.99913738\n",
      "Iteration 387, loss = 506.60627597\n",
      "Iteration 388, loss = 501.54522437\n",
      "Iteration 389, loss = 496.58912131\n",
      "Iteration 390, loss = 491.55215590\n",
      "Iteration 391, loss = 486.45946070\n",
      "Iteration 392, loss = 481.11382483\n",
      "Iteration 393, loss = 475.55680037\n",
      "Iteration 394, loss = 469.49896206\n",
      "Iteration 395, loss = 463.97096408\n",
      "Iteration 396, loss = 458.30523922\n",
      "Iteration 397, loss = 452.25003114\n",
      "Iteration 398, loss = 445.89851157\n",
      "Iteration 399, loss = 439.07503873\n",
      "Iteration 400, loss = 432.83834924\n",
      "Testing...\n",
      "MSE   train: 854.287862   validation: 1763.451061\n",
      "R2    train: 0.703105   validation: 0.426135\n",
      "Training MLPRegressor_0 took 5.050933 s\n",
      "Testing on provided data...\n",
      "MSE   test: 3473.783881\n",
      "R2    test: -0.185202\n",
      "-----------------------\n"
     ]
    },
    {
     "name": "stderr",
     "output_type": "stream",
     "text": [
      "/home/pawel/Documents/studia/magisterka/CKTinderator/venv/lib/python3.11/site-packages/sklearn/neural_network/_multilayer_perceptron.py:691: ConvergenceWarning: Stochastic Optimizer: Maximum iterations (400) reached and the optimization hasn't converged yet.\n",
      "  warnings.warn(\n"
     ]
    }
   ],
   "source": [
    "Z_TRAIN_SIZE = 11000\n",
    "Z_TOTAL_SIZE = X_z.shape[0]\n",
    "\n",
    "X_z_test, X_z_train, Y_z_test, Y_z_train = X_z[:Z_TRAIN_SIZE], X_z[Z_TRAIN_SIZE:], Y[:Z_TRAIN_SIZE], Y[Z_TRAIN_SIZE:Z_TOTAL_SIZE]\n",
    "z_models = train_and_validate(X_z_train, Y_z_train, regressors, X_test=X_z_test, Y_test=Y_z_test)\n",
    "# print(\"---------------------------\")\n",
    "# z_models_inverted = train_and_validate(X_z_test, Y_z_test, regressors, X_test=X_z_train, Y_test=Y_z_train)"
   ]
  },
  {
   "cell_type": "code",
   "execution_count": 15,
   "metadata": {},
   "outputs": [],
   "source": [
    "save_models(face_models, \"./model/encoder/faces/\")\n",
    "save_models(z_models, \"./model/encoder/z/\")\n",
    "\n",
    "save_results(face_models, \"./results/encoder/faces.json\")\n",
    "save_results(z_models, \"./results/encoder/z.json\")"
   ]
  },
  {
   "cell_type": "markdown",
   "metadata": {},
   "source": [
    "## Multiple training sizes"
   ]
  },
  {
   "cell_type": "code",
   "execution_count": 32,
   "metadata": {},
   "outputs": [
    {
     "name": "stdout",
     "output_type": "stream",
     "text": [
      "Model: LinearRegression_0\n",
      "Training ...\n",
      "Testing...\n",
      "MSE   train: 0.000000   validation: 111.767472\n",
      "R2    train: 1.000000   validation: 0.960090\n",
      "Training LinearRegression_0 took 2.140913 s\n",
      "Testing on provided data...\n",
      "MSE   test: 185.409001\n",
      "R2    test: 0.936274\n",
      "-----------------------\n",
      "Model: OrthogonalMatchingPursuit_1\n",
      "Training ...\n"
     ]
    },
    {
     "name": "stderr",
     "output_type": "stream",
     "text": [
      "/home/pawel/Documents/studia/magisterka/CKTinderator/venv/lib/python3.11/site-packages/sklearn/linear_model/_omp.py:435: RuntimeWarning: Orthogonal matching pursuit ended prematurely due to linear dependence in the dictionary. The requested precision might not have been met.\n",
      "  out = _cholesky_omp(\n"
     ]
    },
    {
     "name": "stdout",
     "output_type": "stream",
     "text": [
      "Testing...\n",
      "MSE   train: 0.000000   validation: 409.078028\n",
      "R2    train: 1.000000   validation: 0.858887\n",
      "Training OrthogonalMatchingPursuit_1 took 3.541085 s\n",
      "Testing on provided data...\n",
      "MSE   test: 575.640438\n",
      "R2    test: 0.802760\n",
      "-----------------------\n",
      "Model: RandomForestRegressor_2\n",
      "Training ...\n",
      "Testing...\n",
      "MSE   train: 145.602667   validation: 1068.467636\n",
      "R2    train: 0.949963   validation: 0.628550\n",
      "Training RandomForestRegressor_2 took 341.699455 s\n",
      "Testing on provided data...\n",
      "MSE   test: 1089.594641\n",
      "R2    test: 0.629405\n",
      "-----------------------\n",
      "Model: MLPRegressor_3\n",
      "Training ...\n"
     ]
    },
    {
     "name": "stderr",
     "output_type": "stream",
     "text": [
      "/home/pawel/Documents/studia/magisterka/CKTinderator/venv/lib/python3.11/site-packages/sklearn/neural_network/_multilayer_perceptron.py:691: ConvergenceWarning: Stochastic Optimizer: Maximum iterations (200) reached and the optimization hasn't converged yet.\n",
      "  warnings.warn(\n"
     ]
    },
    {
     "name": "stdout",
     "output_type": "stream",
     "text": [
      "Testing...\n",
      "MSE   train: 2925.206918   validation: 2803.780903\n",
      "R2    train: 0.002917   validation: -0.013191\n",
      "Training MLPRegressor_3 took 53.924958 s\n",
      "Testing on provided data...\n",
      "MSE   test: 2955.810787\n",
      "R2    test: -0.009509\n",
      "-----------------------\n",
      "Model: LinearRegression_0\n",
      "Training ...\n",
      "Testing...\n",
      "MSE   train: 0.000000   validation: 110.456961\n",
      "R2    train: 1.000000   validation: 0.957949\n",
      "Training LinearRegression_0 took 3.104435 s\n",
      "Testing on provided data...\n",
      "MSE   test: 169.894867\n",
      "R2    test: 0.941291\n",
      "-----------------------\n",
      "Model: OrthogonalMatchingPursuit_1\n",
      "Training ...\n"
     ]
    },
    {
     "name": "stderr",
     "output_type": "stream",
     "text": [
      "/home/pawel/Documents/studia/magisterka/CKTinderator/venv/lib/python3.11/site-packages/sklearn/linear_model/_omp.py:435: RuntimeWarning: Orthogonal matching pursuit ended prematurely due to linear dependence in the dictionary. The requested precision might not have been met.\n",
      "  out = _cholesky_omp(\n"
     ]
    },
    {
     "name": "stdout",
     "output_type": "stream",
     "text": [
      "Testing...\n",
      "MSE   train: 0.000000   validation: 361.968424\n",
      "R2    train: 1.000000   validation: 0.863131\n",
      "Training OrthogonalMatchingPursuit_1 took 11.235568 s\n",
      "Testing on provided data...\n",
      "MSE   test: 471.822334\n",
      "R2    test: 0.837427\n",
      "-----------------------\n",
      "Model: RandomForestRegressor_2\n",
      "Training ...\n",
      "Testing...\n",
      "MSE   train: 113.089668   validation: 683.237229\n",
      "R2    train: 0.961652   validation: 0.742935\n",
      "Training RandomForestRegressor_2 took 788.892968 s\n",
      "Testing on provided data...\n",
      "MSE   test: 786.321014\n",
      "R2    test: 0.732080\n",
      "-----------------------\n",
      "Model: MLPRegressor_3\n",
      "Training ...\n"
     ]
    },
    {
     "name": "stderr",
     "output_type": "stream",
     "text": [
      "/home/pawel/Documents/studia/magisterka/CKTinderator/venv/lib/python3.11/site-packages/sklearn/neural_network/_multilayer_perceptron.py:691: ConvergenceWarning: Stochastic Optimizer: Maximum iterations (200) reached and the optimization hasn't converged yet.\n",
      "  warnings.warn(\n"
     ]
    },
    {
     "name": "stdout",
     "output_type": "stream",
     "text": [
      "Testing...\n",
      "MSE   train: 2872.799481   validation: 2691.767527\n",
      "R2    train: 0.019798   validation: 0.003456\n",
      "Training MLPRegressor_3 took 106.487666 s\n",
      "Testing on provided data...\n",
      "MSE   test: 2896.932590\n",
      "R2    test: 0.010824\n",
      "-----------------------\n",
      "Model: LinearRegression_0\n",
      "Training ...\n",
      "Testing...\n",
      "MSE   train: 0.000000   validation: 198.920919\n",
      "R2    train: 1.000000   validation: 0.924650\n",
      "Training LinearRegression_0 took 4.396966 s\n",
      "Testing on provided data...\n",
      "MSE   test: 175.315479\n",
      "R2    test: 0.939365\n",
      "-----------------------\n",
      "Model: OrthogonalMatchingPursuit_1\n",
      "Training ...\n"
     ]
    },
    {
     "name": "stderr",
     "output_type": "stream",
     "text": [
      "/home/pawel/Documents/studia/magisterka/CKTinderator/venv/lib/python3.11/site-packages/sklearn/linear_model/_omp.py:435: RuntimeWarning: Orthogonal matching pursuit ended prematurely due to linear dependence in the dictionary. The requested precision might not have been met.\n",
      "  out = _cholesky_omp(\n"
     ]
    },
    {
     "name": "stdout",
     "output_type": "stream",
     "text": [
      "Testing...\n",
      "MSE   train: 0.000000   validation: 423.024321\n",
      "R2    train: 1.000000   validation: 0.840821\n",
      "Training OrthogonalMatchingPursuit_1 took 24.024349 s\n",
      "Testing on provided data...\n",
      "MSE   test: 408.250173\n",
      "R2    test: 0.859141\n",
      "-----------------------\n",
      "Model: RandomForestRegressor_2\n",
      "Training ...\n",
      "Testing...\n",
      "MSE   train: 97.957678   validation: 721.833976\n",
      "R2    train: 0.966455   validation: 0.752992\n",
      "Training RandomForestRegressor_2 took 1293.282857 s\n",
      "Testing on provided data...\n",
      "MSE   test: 706.229402\n",
      "R2    test: 0.759568\n",
      "-----------------------\n",
      "Model: MLPRegressor_3\n",
      "Training ...\n"
     ]
    },
    {
     "name": "stderr",
     "output_type": "stream",
     "text": [
      "/home/pawel/Documents/studia/magisterka/CKTinderator/venv/lib/python3.11/site-packages/sklearn/neural_network/_multilayer_perceptron.py:691: ConvergenceWarning: Stochastic Optimizer: Maximum iterations (200) reached and the optimization hasn't converged yet.\n",
      "  warnings.warn(\n"
     ]
    },
    {
     "name": "stdout",
     "output_type": "stream",
     "text": [
      "Testing...\n",
      "MSE   train: 2753.303223   validation: 2797.102404\n",
      "R2    train: 0.058618   validation: 0.046863\n",
      "Training MLPRegressor_3 took 160.360831 s\n",
      "Testing on provided data...\n",
      "MSE   test: 2779.306651\n",
      "R2    test: 0.051785\n",
      "-----------------------\n",
      "Model: LinearRegression_0\n",
      "Training ...\n",
      "Testing...\n",
      "MSE   train: 0.000000   validation: 136.878927\n",
      "R2    train: 1.000000   validation: 0.954671\n",
      "Training LinearRegression_0 took 6.238192 s\n",
      "Testing on provided data...\n",
      "MSE   test: 168.319100\n",
      "R2    test: 0.941735\n",
      "-----------------------\n",
      "Model: OrthogonalMatchingPursuit_1\n",
      "Training ...\n"
     ]
    },
    {
     "name": "stderr",
     "output_type": "stream",
     "text": [
      "/home/pawel/Documents/studia/magisterka/CKTinderator/venv/lib/python3.11/site-packages/sklearn/linear_model/_omp.py:435: RuntimeWarning: Orthogonal matching pursuit ended prematurely due to linear dependence in the dictionary. The requested precision might not have been met.\n",
      "  out = _cholesky_omp(\n"
     ]
    },
    {
     "name": "stdout",
     "output_type": "stream",
     "text": [
      "Testing...\n",
      "MSE   train: 0.000000   validation: 408.863276\n",
      "R2    train: 1.000000   validation: 0.864372\n",
      "Training OrthogonalMatchingPursuit_1 took 42.244902 s\n",
      "Testing on provided data...\n",
      "MSE   test: 430.542133\n",
      "R2    test: 0.851081\n",
      "-----------------------\n",
      "Model: RandomForestRegressor_2\n",
      "Training ...\n",
      "Testing...\n",
      "MSE   train: 86.239076   validation: 622.776339\n",
      "R2    train: 0.969699   validation: 0.795297\n",
      "Training RandomForestRegressor_2 took 1842.199831 s\n",
      "Testing on provided data...\n",
      "MSE   test: 641.915340\n",
      "R2    test: 0.781336\n",
      "-----------------------\n",
      "Model: MLPRegressor_3\n",
      "Training ...\n"
     ]
    },
    {
     "name": "stderr",
     "output_type": "stream",
     "text": [
      "/home/pawel/Documents/studia/magisterka/CKTinderator/venv/lib/python3.11/site-packages/sklearn/neural_network/_multilayer_perceptron.py:691: ConvergenceWarning: Stochastic Optimizer: Maximum iterations (200) reached and the optimization hasn't converged yet.\n",
      "  warnings.warn(\n"
     ]
    },
    {
     "name": "stdout",
     "output_type": "stream",
     "text": [
      "Testing...\n",
      "MSE   train: 2627.792898   validation: 2820.169219\n",
      "R2    train: 0.079164   validation: 0.069650\n",
      "Training MLPRegressor_3 took 204.211432 s\n",
      "Testing on provided data...\n",
      "MSE   test: 2721.689778\n",
      "R2    test: 0.071750\n",
      "-----------------------\n",
      "Model: LinearRegression_0\n",
      "Training ...\n",
      "Testing...\n",
      "MSE   train: 0.000000   validation: 233.680800\n",
      "R2    train: 1.000000   validation: 0.919810\n",
      "Training LinearRegression_0 took 8.902577 s\n",
      "Testing on provided data...\n",
      "MSE   test: 185.205599\n",
      "R2    test: 0.935869\n",
      "-----------------------\n",
      "Model: OrthogonalMatchingPursuit_1\n",
      "Training ...\n"
     ]
    },
    {
     "name": "stderr",
     "output_type": "stream",
     "text": [
      "/home/pawel/Documents/studia/magisterka/CKTinderator/venv/lib/python3.11/site-packages/sklearn/linear_model/_omp.py:435: RuntimeWarning: Orthogonal matching pursuit ended prematurely due to linear dependence in the dictionary. The requested precision might not have been met.\n",
      "  out = _cholesky_omp(\n"
     ]
    },
    {
     "name": "stdout",
     "output_type": "stream",
     "text": [
      "Testing...\n",
      "MSE   train: 0.000000   validation: 473.329916\n",
      "R2    train: 1.000000   validation: 0.836294\n",
      "Training OrthogonalMatchingPursuit_1 took 71.313658 s\n",
      "Testing on provided data...\n",
      "MSE   test: 461.010905\n",
      "R2    test: 0.840442\n",
      "-----------------------\n",
      "Model: RandomForestRegressor_2\n",
      "Training ...\n",
      "Testing...\n",
      "MSE   train: 81.895646   validation: 601.311181\n",
      "R2    train: 0.971823   validation: 0.792502\n",
      "Training RandomForestRegressor_2 took 2386.853280 s\n",
      "Testing on provided data...\n",
      "MSE   test: 590.238341\n",
      "R2    test: 0.798775\n",
      "-----------------------\n",
      "Model: MLPRegressor_3\n",
      "Training ...\n"
     ]
    },
    {
     "name": "stderr",
     "output_type": "stream",
     "text": [
      "/home/pawel/Documents/studia/magisterka/CKTinderator/venv/lib/python3.11/site-packages/sklearn/neural_network/_multilayer_perceptron.py:691: ConvergenceWarning: Stochastic Optimizer: Maximum iterations (200) reached and the optimization hasn't converged yet.\n",
      "  warnings.warn(\n"
     ]
    },
    {
     "name": "stdout",
     "output_type": "stream",
     "text": [
      "Testing...\n",
      "MSE   train: 2726.650465   validation: 2749.937654\n",
      "R2    train: 0.062696   validation: 0.054062\n",
      "Training MLPRegressor_3 took 224.050393 s\n",
      "Testing on provided data...\n",
      "MSE   test: 2768.647171\n",
      "R2    test: 0.055365\n",
      "-----------------------\n"
     ]
    }
   ],
   "source": [
    "X_test, Y_test = X_face_test[:1000], Y_face_test[:1000]\n",
    "for size in [200, 400, 600, 800, 1000]:\n",
    "    X_face_train, Y_face_train = X_faces[:size], Y[:size]\n",
    "    models = train_and_validate(X_face_train, Y_face_train, regressors, X_test=X_test, Y_test=Y_test)\n",
    "    save_models(models, f\"./model/encoder/faces/{size}/\")\n",
    "    save_results(models, f\"./results/encoder/faces/{size}.json\")"
   ]
  },
  {
   "cell_type": "markdown",
   "metadata": {},
   "source": [
    "#### Bonus! Trying different MLPs\n"
   ]
  },
  {
   "cell_type": "code",
   "execution_count": 9,
   "metadata": {},
   "outputs": [],
   "source": [
    "\n",
    "mlp_regressors = [\n",
    "    MLPRegressor(hidden_layer_sizes=(128),),\n",
    "    MLPRegressor(hidden_layer_sizes=(128, 64)),\n",
    "    MLPRegressor(hidden_layer_sizes=(128, 64, 32)),\n",
    "    MLPRegressor(hidden_layer_sizes=(128, 64, 32, 16)),\n",
    "    MLPRegressor(hidden_layer_sizes=(128, 64, 32, 16, 8))\n",
    "]"
   ]
  },
  {
   "cell_type": "code",
   "execution_count": 10,
   "metadata": {},
   "outputs": [
    {
     "name": "stdout",
     "output_type": "stream",
     "text": [
      "Model: MLPRegressor_0\n",
      "Training ...\n"
     ]
    },
    {
     "name": "stderr",
     "output_type": "stream",
     "text": [
      "/home/pawel/Documents/studia/magisterka/CKTinderator/venv/lib/python3.11/site-packages/sklearn/neural_network/_multilayer_perceptron.py:691: ConvergenceWarning: Stochastic Optimizer: Maximum iterations (200) reached and the optimization hasn't converged yet.\n",
      "  warnings.warn(\n"
     ]
    },
    {
     "name": "stdout",
     "output_type": "stream",
     "text": [
      "Testing...\n",
      "MSE   train: 2539.011192   validation: 2741.246231\n",
      "R2    train: 0.135590   validation: 0.066152\n",
      "Training MLPRegressor_0 took 5.325113 s\n",
      "Testing on provided data...\n",
      "MSE   test: 3335.869475\n",
      "R2    test: -0.138676\n",
      "-----------------------\n",
      "Model: MLPRegressor_1\n",
      "Training ...\n"
     ]
    },
    {
     "name": "stderr",
     "output_type": "stream",
     "text": [
      "/home/pawel/Documents/studia/magisterka/CKTinderator/venv/lib/python3.11/site-packages/sklearn/neural_network/_multilayer_perceptron.py:691: ConvergenceWarning: Stochastic Optimizer: Maximum iterations (200) reached and the optimization hasn't converged yet.\n",
      "  warnings.warn(\n"
     ]
    },
    {
     "name": "stdout",
     "output_type": "stream",
     "text": [
      "Testing...\n",
      "MSE   train: 1157.302287   validation: 1432.364179\n",
      "R2    train: 0.606627   validation: 0.510815\n",
      "Training MLPRegressor_1 took 5.607697 s\n",
      "Testing on provided data...\n",
      "MSE   test: 3122.172330\n",
      "R2    test: -0.065998\n",
      "-----------------------\n",
      "Model: MLPRegressor_2\n",
      "Training ...\n"
     ]
    },
    {
     "name": "stderr",
     "output_type": "stream",
     "text": [
      "/home/pawel/Documents/studia/magisterka/CKTinderator/venv/lib/python3.11/site-packages/sklearn/neural_network/_multilayer_perceptron.py:691: ConvergenceWarning: Stochastic Optimizer: Maximum iterations (200) reached and the optimization hasn't converged yet.\n",
      "  warnings.warn(\n"
     ]
    },
    {
     "name": "stdout",
     "output_type": "stream",
     "text": [
      "Testing...\n",
      "MSE   train: 274.749135   validation: 900.345717\n",
      "R2    train: 0.907510   validation: 0.693055\n",
      "Training MLPRegressor_2 took 6.074667 s\n",
      "Testing on provided data...\n",
      "MSE   test: 3839.409614\n",
      "R2    test: -0.310408\n",
      "-----------------------\n",
      "Model: MLPRegressor_3\n",
      "Training ...\n"
     ]
    },
    {
     "name": "stderr",
     "output_type": "stream",
     "text": [
      "/home/pawel/Documents/studia/magisterka/CKTinderator/venv/lib/python3.11/site-packages/sklearn/neural_network/_multilayer_perceptron.py:691: ConvergenceWarning: Stochastic Optimizer: Maximum iterations (200) reached and the optimization hasn't converged yet.\n",
      "  warnings.warn(\n"
     ]
    },
    {
     "name": "stdout",
     "output_type": "stream",
     "text": [
      "Testing...\n",
      "MSE   train: 1304.634821   validation: 1595.601181\n",
      "R2    train: 0.560326   validation: 0.455837\n",
      "Training MLPRegressor_3 took 6.573971 s\n",
      "Testing on provided data...\n",
      "MSE   test: 3482.496787\n",
      "R2    test: -0.188861\n",
      "-----------------------\n",
      "Model: MLPRegressor_4\n",
      "Training ...\n",
      "Testing...\n",
      "MSE   train: 1777.571479   validation: 2169.653572\n",
      "R2    train: 0.394365   validation: 0.262043\n",
      "Training MLPRegressor_4 took 7.399696 s\n",
      "Testing on provided data...\n",
      "MSE   test: 3332.409264\n",
      "R2    test: -0.137637\n",
      "-----------------------\n"
     ]
    },
    {
     "name": "stderr",
     "output_type": "stream",
     "text": [
      "/home/pawel/Documents/studia/magisterka/CKTinderator/venv/lib/python3.11/site-packages/sklearn/neural_network/_multilayer_perceptron.py:691: ConvergenceWarning: Stochastic Optimizer: Maximum iterations (200) reached and the optimization hasn't converged yet.\n",
      "  warnings.warn(\n"
     ]
    }
   ],
   "source": [
    "z_mlp_models = train_and_validate(X_z_train, Y_z_train, mlp_regressors, X_test=X_z_test, Y_test=Y_z_test)"
   ]
  },
  {
   "cell_type": "code",
   "execution_count": 17,
   "metadata": {},
   "outputs": [
    {
     "name": "stdout",
     "output_type": "stream",
     "text": [
      "Model: MLPRegressor_0\n",
      "Training ...\n"
     ]
    },
    {
     "name": "stderr",
     "output_type": "stream",
     "text": [
      "/home/pawel/Documents/studia/magisterka/CKTinderator/venv/lib/python3.11/site-packages/sklearn/neural_network/_multilayer_perceptron.py:691: ConvergenceWarning: Stochastic Optimizer: Maximum iterations (200) reached and the optimization hasn't converged yet.\n",
      "  warnings.warn(\n"
     ]
    },
    {
     "name": "stdout",
     "output_type": "stream",
     "text": [
      "Testing...\n",
      "MSE   train: 1621.199057   validation: 4370.266300\n",
      "R2    train: 0.444777   validation: -0.480488\n",
      "Training MLPRegressor_0 took 90.635764 s\n",
      "Testing on provided data...\n",
      "MSE   test: 3731.174181\n",
      "R2    test: -0.264210\n",
      "-----------------------\n",
      "Model: MLPRegressor_1\n",
      "Training ...\n"
     ]
    },
    {
     "name": "stderr",
     "output_type": "stream",
     "text": [
      "/home/pawel/Documents/studia/magisterka/CKTinderator/venv/lib/python3.11/site-packages/sklearn/neural_network/_multilayer_perceptron.py:691: ConvergenceWarning: Stochastic Optimizer: Maximum iterations (200) reached and the optimization hasn't converged yet.\n",
      "  warnings.warn(\n"
     ]
    },
    {
     "name": "stdout",
     "output_type": "stream",
     "text": [
      "Testing...\n",
      "MSE   train: 1785.886481   validation: 4208.526610\n",
      "R2    train: 0.388666   validation: -0.428263\n",
      "Training MLPRegressor_1 took 67.593153 s\n",
      "Testing on provided data...\n",
      "MSE   test: 3873.832012\n",
      "R2    test: -0.313193\n",
      "-----------------------\n",
      "Model: MLPRegressor_2\n",
      "Training ...\n"
     ]
    },
    {
     "name": "stderr",
     "output_type": "stream",
     "text": [
      "/home/pawel/Documents/studia/magisterka/CKTinderator/venv/lib/python3.11/site-packages/sklearn/neural_network/_multilayer_perceptron.py:698: UserWarning: Training interrupted by user.\n",
      "  warnings.warn(\"Training interrupted by user.\")\n"
     ]
    },
    {
     "name": "stdout",
     "output_type": "stream",
     "text": [
      "Testing...\n",
      "MSE   train: 2380.988848   validation: 3299.848041\n",
      "R2    train: 0.185796   validation: -0.118681\n",
      "Training MLPRegressor_2 took 22.220021 s\n",
      "Testing on provided data...\n",
      "MSE   test: 3141.443045\n",
      "R2    test: -0.064619\n",
      "-----------------------\n",
      "Model: MLPRegressor_3\n",
      "Training ...\n"
     ]
    },
    {
     "name": "stderr",
     "output_type": "stream",
     "text": [
      "/home/pawel/Documents/studia/magisterka/CKTinderator/venv/lib/python3.11/site-packages/sklearn/neural_network/_multilayer_perceptron.py:691: ConvergenceWarning: Stochastic Optimizer: Maximum iterations (200) reached and the optimization hasn't converged yet.\n",
      "  warnings.warn(\n"
     ]
    },
    {
     "name": "stdout",
     "output_type": "stream",
     "text": [
      "Testing...\n",
      "MSE   train: 1625.143582   validation: 4271.744768\n",
      "R2    train: 0.444300   validation: -0.444201\n",
      "Training MLPRegressor_3 took 59.662424 s\n",
      "Testing on provided data...\n",
      "MSE   test: 3687.583618\n",
      "R2    test: -0.252403\n",
      "-----------------------\n",
      "Model: MLPRegressor_4\n",
      "Training ...\n",
      "Testing...\n",
      "MSE   train: 1416.860344   validation: 4712.738722\n",
      "R2    train: 0.515396   validation: -0.601942\n",
      "Training MLPRegressor_4 took 85.440482 s\n",
      "Testing on provided data...\n",
      "MSE   test: 4214.834446\n",
      "R2    test: -0.427988\n",
      "-----------------------\n"
     ]
    },
    {
     "name": "stderr",
     "output_type": "stream",
     "text": [
      "/home/pawel/Documents/studia/magisterka/CKTinderator/venv/lib/python3.11/site-packages/sklearn/neural_network/_multilayer_perceptron.py:691: ConvergenceWarning: Stochastic Optimizer: Maximum iterations (200) reached and the optimization hasn't converged yet.\n",
      "  warnings.warn(\n"
     ]
    }
   ],
   "source": [
    "mlp_bigger_alpha_regressors = [\n",
    "    MLPRegressor(hidden_layer_sizes=(128, 64, 32, 16, 8), alpha=0.001),\n",
    "    MLPRegressor(hidden_layer_sizes=(128, 64, 32, 16, 8), alpha=0.01),\n",
    "    MLPRegressor(hidden_layer_sizes=(128, 64, 32, 16, 8), alpha=0.1),\n",
    "    MLPRegressor(hidden_layer_sizes=(128, 64, 32, 16, 8), alpha=1),\n",
    "    MLPRegressor(hidden_layer_sizes=(128, 64, 32, 16, 8), alpha=10)\n",
    "]\n",
    "    \n",
    "\n",
    "\n",
    "z_mlp_bigger_alpha_models = train_and_validate(X_z_train, Y_z_train, mlp_bigger_alpha_regressors, X_test=X_z_test, Y_test=Y_z_test)"
   ]
  },
  {
   "cell_type": "code",
   "execution_count": 21,
   "metadata": {},
   "outputs": [
    {
     "name": "stdout",
     "output_type": "stream",
     "text": [
      "Model: MLPRegressor_0\n",
      "Training ...\n"
     ]
    },
    {
     "name": "stderr",
     "output_type": "stream",
     "text": [
      "/home/pawel/Documents/studia/magisterka/CKTinderator/venv/lib/python3.11/site-packages/sklearn/neural_network/_multilayer_perceptron.py:691: ConvergenceWarning: Stochastic Optimizer: Maximum iterations (200) reached and the optimization hasn't converged yet.\n",
      "  warnings.warn(\n"
     ]
    },
    {
     "name": "stdout",
     "output_type": "stream",
     "text": [
      "Testing...\n",
      "MSE   train: 2075.482804   validation: 2999.711074\n",
      "R2    train: 0.290986   validation: -0.021803\n",
      "Training MLPRegressor_0 took 35.076074 s\n",
      "Testing on provided data...\n",
      "MSE   test: 1985.666946\n",
      "R2    test: 0.328280\n",
      "-----------------------\n",
      "Model: MLPRegressor_1\n",
      "Training ...\n"
     ]
    },
    {
     "name": "stderr",
     "output_type": "stream",
     "text": [
      "/home/pawel/Documents/studia/magisterka/CKTinderator/venv/lib/python3.11/site-packages/sklearn/neural_network/_multilayer_perceptron.py:691: ConvergenceWarning: Stochastic Optimizer: Maximum iterations (400) reached and the optimization hasn't converged yet.\n",
      "  warnings.warn(\n"
     ]
    },
    {
     "name": "stdout",
     "output_type": "stream",
     "text": [
      "Testing...\n",
      "MSE   train: 1027.253332   validation: 4199.907813\n",
      "R2    train: 0.649038   validation: -0.431527\n",
      "Training MLPRegressor_1 took 85.974538 s\n",
      "Testing on provided data...\n",
      "MSE   test: 3112.836865\n",
      "R2    test: -0.052942\n",
      "-----------------------\n",
      "Model: MLPRegressor_2\n",
      "Training ...\n"
     ]
    },
    {
     "name": "stderr",
     "output_type": "stream",
     "text": [
      "/home/pawel/Documents/studia/magisterka/CKTinderator/venv/lib/python3.11/site-packages/sklearn/neural_network/_multilayer_perceptron.py:691: ConvergenceWarning: Stochastic Optimizer: Maximum iterations (600) reached and the optimization hasn't converged yet.\n",
      "  warnings.warn(\n"
     ]
    },
    {
     "name": "stdout",
     "output_type": "stream",
     "text": [
      "Testing...\n",
      "MSE   train: 500.527108   validation: 5576.276629\n",
      "R2    train: 0.828962   validation: -0.899456\n",
      "Training MLPRegressor_2 took 146.529135 s\n",
      "Testing on provided data...\n",
      "MSE   test: 4544.358006\n",
      "R2    test: -0.538690\n",
      "-----------------------\n",
      "Model: MLPRegressor_3\n",
      "Training ...\n"
     ]
    },
    {
     "name": "stderr",
     "output_type": "stream",
     "text": [
      "/home/pawel/Documents/studia/magisterka/CKTinderator/venv/lib/python3.11/site-packages/sklearn/neural_network/_multilayer_perceptron.py:691: ConvergenceWarning: Stochastic Optimizer: Maximum iterations (800) reached and the optimization hasn't converged yet.\n",
      "  warnings.warn(\n"
     ]
    },
    {
     "name": "stdout",
     "output_type": "stream",
     "text": [
      "Testing...\n",
      "MSE   train: 361.038135   validation: 6368.318591\n",
      "R2    train: 0.876629   validation: -1.170974\n",
      "Training MLPRegressor_3 took 161.944777 s\n",
      "Testing on provided data...\n",
      "MSE   test: 5301.342213\n",
      "R2    test: -0.792946\n",
      "-----------------------\n",
      "Model: MLPRegressor_4\n",
      "Training ...\n"
     ]
    },
    {
     "name": "stderr",
     "output_type": "stream",
     "text": [
      "/home/pawel/Documents/studia/magisterka/CKTinderator/venv/lib/python3.11/site-packages/sklearn/neural_network/_multilayer_perceptron.py:691: ConvergenceWarning: Stochastic Optimizer: Maximum iterations (1000) reached and the optimization hasn't converged yet.\n",
      "  warnings.warn(\n"
     ]
    },
    {
     "name": "stdout",
     "output_type": "stream",
     "text": [
      "Testing...\n",
      "MSE   train: 256.883746   validation: 7017.877939\n",
      "R2    train: 0.912254   validation: -1.391625\n",
      "Training MLPRegressor_4 took 175.791965 s\n",
      "Testing on provided data...\n",
      "MSE   test: 5820.026468\n",
      "R2    test: -0.969657\n",
      "-----------------------\n"
     ]
    }
   ],
   "source": [
    "mlp_different_iter_regressors = [\n",
    "    MLPRegressor(hidden_layer_sizes=(128,64), max_iter=200),\n",
    "    MLPRegressor(hidden_layer_sizes=(128,64), max_iter=400),\n",
    "    MLPRegressor(hidden_layer_sizes=(128,64), max_iter=600),\n",
    "    MLPRegressor(hidden_layer_sizes=(128,64), max_iter=800),\n",
    "    MLPRegressor(hidden_layer_sizes=(128,64), max_iter=1000)\n",
    "]\n",
    "\n",
    "z_mlp_different_iter_models = train_and_validate(X_z_train, Y_z_train, mlp_different_iter_regressors, X_test=X_z_test, Y_test=Y_z_test)"
   ]
  },
  {
   "cell_type": "code",
   "execution_count": 22,
   "metadata": {},
   "outputs": [
    {
     "name": "stdout",
     "output_type": "stream",
     "text": [
      "Model: MLPRegressor_0\n",
      "Training ...\n"
     ]
    },
    {
     "name": "stderr",
     "output_type": "stream",
     "text": [
      "/home/pawel/Documents/studia/magisterka/CKTinderator/venv/lib/python3.11/site-packages/sklearn/neural_network/_multilayer_perceptron.py:691: ConvergenceWarning: Stochastic Optimizer: Maximum iterations (200) reached and the optimization hasn't converged yet.\n",
      "  warnings.warn(\n"
     ]
    },
    {
     "name": "stdout",
     "output_type": "stream",
     "text": [
      "Testing...\n",
      "MSE   train: 2037.291320   validation: 3013.946276\n",
      "R2    train: 0.306350   validation: -0.041283\n",
      "Training MLPRegressor_0 took 61.948158 s\n",
      "Testing on provided data...\n",
      "MSE   test: 2008.732700\n",
      "R2    test: 0.320692\n",
      "-----------------------\n",
      "Model: MLPRegressor_1\n",
      "Training ...\n"
     ]
    },
    {
     "name": "stderr",
     "output_type": "stream",
     "text": [
      "/home/pawel/Documents/studia/magisterka/CKTinderator/venv/lib/python3.11/site-packages/sklearn/neural_network/_multilayer_perceptron.py:691: ConvergenceWarning: Stochastic Optimizer: Maximum iterations (400) reached and the optimization hasn't converged yet.\n",
      "  warnings.warn(\n"
     ]
    },
    {
     "name": "stdout",
     "output_type": "stream",
     "text": [
      "Testing...\n",
      "MSE   train: 798.760349   validation: 4483.733755\n",
      "R2    train: 0.727572   validation: -0.547799\n",
      "Training MLPRegressor_1 took 126.711411 s\n",
      "Testing on provided data...\n",
      "MSE   test: 3641.647301\n",
      "R2    test: -0.231930\n",
      "-----------------------\n",
      "Model: MLPRegressor_2\n",
      "Training ...\n"
     ]
    },
    {
     "name": "stderr",
     "output_type": "stream",
     "text": [
      "/home/pawel/Documents/studia/magisterka/CKTinderator/venv/lib/python3.11/site-packages/sklearn/neural_network/_multilayer_perceptron.py:691: ConvergenceWarning: Stochastic Optimizer: Maximum iterations (600) reached and the optimization hasn't converged yet.\n",
      "  warnings.warn(\n"
     ]
    },
    {
     "name": "stdout",
     "output_type": "stream",
     "text": [
      "Testing...\n",
      "MSE   train: 458.158243   validation: 5616.300629\n",
      "R2    train: 0.843788   validation: -0.939679\n",
      "Training MLPRegressor_2 took 143.417865 s\n",
      "Testing on provided data...\n",
      "MSE   test: 4696.370524\n",
      "R2    test: -0.589742\n",
      "-----------------------\n",
      "Model: MLPRegressor_3\n",
      "Training ...\n"
     ]
    },
    {
     "name": "stderr",
     "output_type": "stream",
     "text": [
      "/home/pawel/Documents/studia/magisterka/CKTinderator/venv/lib/python3.11/site-packages/sklearn/neural_network/_multilayer_perceptron.py:691: ConvergenceWarning: Stochastic Optimizer: Maximum iterations (800) reached and the optimization hasn't converged yet.\n",
      "  warnings.warn(\n"
     ]
    },
    {
     "name": "stdout",
     "output_type": "stream",
     "text": [
      "Testing...\n",
      "MSE   train: 361.631607   validation: 6427.622011\n",
      "R2    train: 0.876739   validation: -1.220290\n",
      "Training MLPRegressor_3 took 214.398274 s\n",
      "Testing on provided data...\n",
      "MSE   test: 5336.007526\n",
      "R2    test: -0.806763\n",
      "-----------------------\n",
      "Model: MLPRegressor_4\n",
      "Training ...\n"
     ]
    },
    {
     "name": "stderr",
     "output_type": "stream",
     "text": [
      "/home/pawel/Documents/studia/magisterka/CKTinderator/venv/lib/python3.11/site-packages/sklearn/neural_network/_multilayer_perceptron.py:691: ConvergenceWarning: Stochastic Optimizer: Maximum iterations (1000) reached and the optimization hasn't converged yet.\n",
      "  warnings.warn(\n"
     ]
    },
    {
     "name": "stdout",
     "output_type": "stream",
     "text": [
      "Testing...\n",
      "MSE   train: 239.871411   validation: 6696.317033\n",
      "R2    train: 0.918254   validation: -1.313555\n",
      "Training MLPRegressor_4 took 224.950246 s\n",
      "Testing on provided data...\n",
      "MSE   test: 5584.159705\n",
      "R2    test: -0.890250\n",
      "-----------------------\n"
     ]
    }
   ],
   "source": [
    "mlp_different_iter_regularizedregressors = [\n",
    "    MLPRegressor(hidden_layer_sizes=(128,64), max_iter=1000, alpha=0.001),\n",
    "    MLPRegressor(hidden_layer_sizes=(128,64), max_iter=1000, alpha=0.01),\n",
    "    MLPRegressor(hidden_layer_sizes=(128,64), max_iter=1000, alpha=0.1),\n",
    "    MLPRegressor(hidden_layer_sizes=(128,64), max_iter=1000, alpha=1),\n",
    "    MLPRegressor(hidden_layer_sizes=(128,64), max_iter=1000, alpha=10),\n",
    "]\n",
    "\n",
    "z_mlp_different_iter_models = train_and_validate(X_z_train, Y_z_train, mlp_different_iter_regressors, X_test=X_z_test, Y_test=Y_z_test)"
   ]
  },
  {
   "cell_type": "code",
   "execution_count": null,
   "metadata": {},
   "outputs": [],
   "source": []
  }
 ],
 "metadata": {
  "kernelspec": {
   "display_name": "venv",
   "language": "python",
   "name": "python3"
  },
  "language_info": {
   "codemirror_mode": {
    "name": "ipython",
    "version": 3
   },
   "file_extension": ".py",
   "mimetype": "text/x-python",
   "name": "python",
   "nbconvert_exporter": "python",
   "pygments_lexer": "ipython3",
   "version": "3.11.4"
  }
 },
 "nbformat": 4,
 "nbformat_minor": 2
}
