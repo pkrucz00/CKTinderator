{
 "cells": [
  {
   "cell_type": "markdown",
   "metadata": {},
   "source": [
    "# Testing regressors\n",
    "\n",
    "Which of the regressors will be the best to encode a face? Let's find out!\n",
    "\n",
    "This notebook prexents a very naive approach, i.e. we will measure how good a regressor is by the MSE on a game face. The problem is the regressors will be used for real faces, which may casuse the regressor to not be able to infer any meaningful results if overfitted. \n",
    "\n",
    "\n",
    "My plan:\n",
    "1. Get the datasets `X_faces`, `X_z` and `Y` from the training set.\n",
    "2. Get regressors: M_LR, M_OMP, M_RF, M_MLP with default values (at least for now)\n",
    "3. Train the regressors on `X_faces[:1000]` and `Y[:1000]`\n",
    "4. Test the regressors on `X_faces[1000:]` and `Y[1000:]` \n",
    "5. Train the regressors on `X_z[:5000]` and `Y[:5000]`\n",
    "6. Test the regressors on `X_z[5000:]` and `Y[5000:]`\n",
    "7. Compare the results by creating a table with MSE, R2, and time of training and testing.\n",
    "\n",
    "\n",
    "TODO:\n",
    " 1. e2e tests\n",
    " 2. cross-validation for finding best parameters of the best regressors"
   ]
  },
  {
   "cell_type": "markdown",
   "metadata": {},
   "source": [
    "## 1. Preparation"
   ]
  },
  {
   "cell_type": "code",
   "execution_count": 2,
   "metadata": {},
   "outputs": [],
   "source": [
    "import glob\n",
    "import numpy as np\n",
    "import matplotlib.pyplot as plt\n",
    "import pickle\n",
    "\n",
    "from time import time\n",
    "from tqdm import tqdm\n",
    "\n",
    "from sklearn.linear_model import LinearRegression, OrthogonalMatchingPursuit\n",
    "from sklearn.ensemble import RandomForestRegressor\n",
    "from sklearn.neural_network import MLPRegressor\n",
    "\n",
    "from sklearn.preprocessing import Normalizer\n",
    "from sklearn.model_selection import train_test_split\n",
    "from sklearn.metrics import mean_squared_error\n",
    "\n",
    "from pathlib import Path\n",
    "import json"
   ]
  },
  {
   "cell_type": "code",
   "execution_count": 4,
   "metadata": {},
   "outputs": [
    {
     "name": "stdout",
     "output_type": "stream",
     "text": [
      "(100000, 65536) (11600, 256) (100000, 5)\n"
     ]
    }
   ],
   "source": [
    "def load_and_concatenate(folder_path):\n",
    "    file_paths = glob.glob(folder_path + '/*.npy')\n",
    "    arrays = [np.load(file_path) for file_path in file_paths]\n",
    "    concatenated_array = np.concatenate(arrays)\n",
    "    return concatenated_array\n",
    "\n",
    "\n",
    "def load_data():\n",
    "    permute = np.load(\"permuted_100000.npy\")\n",
    "    \n",
    "    X_faces = np.load(\"/media/pawel/DATA/tmp/freddie_mercuries/naive_input.npy\")[permute]\n",
    "    X_z = load_and_concatenate(\"/media/pawel/DATA/tmp/freddie_mercuries/en_face/vectors\")\n",
    "    Y = np.load(\"./data/outvec.npy\")[permute]\n",
    "    \n",
    "    return X_faces, X_z, Y\n",
    "\n",
    "\n",
    "X_faces, X_z, Y = load_data()\n",
    "print(X_faces.shape, X_z.shape, Y.shape)"
   ]
  },
  {
   "cell_type": "code",
   "execution_count": 5,
   "metadata": {},
   "outputs": [],
   "source": [
    "def get_regressors():\n",
    "    regressors = [\n",
    "        LinearRegression(),\n",
    "        # OrthogonalMatchingPursuit(),\n",
    "        # RandomForestRegressor(),\n",
    "        # MLPRegressor()\n",
    "    ]\n",
    "    return regressors\n",
    "\n",
    "regressors = get_regressors()"
   ]
  },
  {
   "cell_type": "markdown",
   "metadata": {},
   "source": [
    "## 2. Training\n",
    "\n"
   ]
  },
  {
   "cell_type": "code",
   "execution_count": 6,
   "metadata": {},
   "outputs": [],
   "source": [
    "def train_and_validate(X, Y, regressors, X_test=None, Y_test=None):\n",
    "    X_train, X_valid, Y_train, Y_valid = train_test_split(X, Y, test_size=0.2, random_state=42)\n",
    "    \n",
    "    normalizer = Normalizer()\n",
    "    X_train = normalizer.fit_transform(X_train)\n",
    "    X_valid = normalizer.transform(X_valid)\n",
    "    X_test = normalizer.transform(X_test) if X_test is not None else None\n",
    "    \n",
    "    models = { f\"{regressor.__class__.__name__}_{i}\": {\n",
    "        \"scores\": {\n",
    "            \"train\": {},\n",
    "            \"valid\": {},\n",
    "            \"test\": {}\n",
    "            }\n",
    "        }      for i, regressor in enumerate(regressors) }\n",
    "    \n",
    "    for i, regressor in enumerate(regressors):\n",
    "        name = f\"{regressor.__class__.__name__}_{i}\"\n",
    "        print(f\"Model: {name}\")\n",
    "        \n",
    "        print(f\"Training ...\")\n",
    "        t1 = time()\n",
    "        regressor.fit(X_train, Y_train)\n",
    "        models[name][\"scores\"][\"train\"][\"time\"] = time() - t1\n",
    "        models[name][\"model\"] = regressor\n",
    "        models[name][\"scores\"][\"train\"][\"mse\"] = mean_squared_error(Y_train, regressor.predict(X_train))\n",
    "        models[name][\"scores\"][\"train\"][\"r2\"] = regressor.score(X_train, Y_train)\n",
    "        \n",
    "        print(\"Testing...\")\n",
    "        Y_pred = regressor.predict(X_valid)\n",
    "        models[name][\"scores\"]['valid'][\"mse\"] = mean_squared_error(Y_valid, Y_pred)\n",
    "        models[name][\"scores\"]['valid'][\"r2\"] = regressor.score(X_valid, Y_valid)\n",
    "\n",
    "        print(f\"MSE   train: {models[name]['scores']['train']['mse']:6f}   validation: {models[name]['scores']['valid']['mse']:6f}\")\n",
    "        print(f\"R2    train: {models[name]['scores']['train']['r2']:6f}   validation: {models[name]['scores']['valid']['r2']:6f}\")\n",
    "        print(f\"Training {name} took {models[name]['scores']['train']['time']:4f} s\")\n",
    "        \n",
    "        if X_test is not None and Y_test is not None:\n",
    "            print(f\"Testing on provided data...\")\n",
    "            Y_pred = regressor.predict(X_test)\n",
    "            models[name][\"scores\"][\"test\"][\"mse\"] = mean_squared_error(Y_test, Y_pred)\n",
    "            models[name][\"scores\"][\"test\"][\"r2\"] = regressor.score(X_test, Y_test)\n",
    "            print(f\"MSE   test: {models[name]['scores']['test']['mse']:6f}\")\n",
    "            print(f\"R2    test: {models[name]['scores']['test']['r2']:6f}\")\n",
    "        print(\"-----------------------\")\n",
    "        \n",
    "    return models"
   ]
  },
  {
   "cell_type": "code",
   "execution_count": 1,
   "metadata": {},
   "outputs": [],
   "source": [
    "def save_model(model, path):\n",
    "    Path(path).parent.mkdir(parents=True, exist_ok=True)\n",
    "    with open(path, 'wb') as f:\n",
    "        pickle.dump(model, f)\n",
    "    \n",
    "def save_models(models, path):\n",
    "    for name, model in models.items():\n",
    "        save_model(model['model'], path + name + \".pickle\")\n",
    "        \n",
    "def save_results(results: dict, path):\n",
    "    Path(path).parent.mkdir(parents=True, exist_ok=True)\n",
    "    with open(path, 'w') as f:\n",
    "        json.dump(results, f, default=lambda o: '<not serializable>')\n",
    "    "
   ]
  },
  {
   "cell_type": "markdown",
   "metadata": {},
   "source": [
    "\n",
    "### Faces"
   ]
  },
  {
   "cell_type": "code",
   "execution_count": 7,
   "metadata": {},
   "outputs": [
    {
     "name": "stdout",
     "output_type": "stream",
     "text": [
      "Model: LinearRegression_0\n",
      "Training ...\n",
      "Testing...\n",
      "MSE   train: 0.000000   validation: 233.680800\n",
      "R2    train: 1.000000   validation: 0.919810\n",
      "Training LinearRegression_0 took 6.813184 s\n",
      "Testing on provided data...\n",
      "MSE   test: 185.205599\n",
      "R2    test: 0.935869\n",
      "-----------------------\n"
     ]
    }
   ],
   "source": [
    "FACES_TEST_SIZE = 1000\n",
    "\n",
    "X_face_train, X_face_test, Y_face_train, Y_face_test = X_faces[:FACES_TEST_SIZE], X_faces[FACES_TEST_SIZE:], Y[:FACES_TEST_SIZE], Y[FACES_TEST_SIZE:]\n",
    "face_models = train_and_validate(X_face_train, Y_face_train, regressors, X_test=X_face_test[:1000], Y_test=Y_face_test[:1000])\n"
   ]
  },
  {
   "cell_type": "markdown",
   "metadata": {},
   "source": [
    "### Z"
   ]
  },
  {
   "cell_type": "code",
   "execution_count": 10,
   "metadata": {},
   "outputs": [
    {
     "name": "stdout",
     "output_type": "stream",
     "text": [
      "Model: LinearRegression_0\n",
      "Training ...\n",
      "Testing...\n",
      "MSE   train: 2089.237926   validation: 2480.699710\n",
      "R2    train: 0.285083   validation: 0.163894\n",
      "Training LinearRegression_0 took 0.327861 s\n",
      "Testing on provided data...\n",
      "MSE   test: 3115.870101\n",
      "R2    test: -0.062622\n",
      "-----------------------\n"
     ]
    }
   ],
   "source": [
    "Z_TRAIN_SIZE = 5800\n",
    "Z_TOTAL_SIZE = X_z.shape[0]\n",
    "\n",
    "X_z_test, X_z_train, Y_z_test, Y_z_train = X_z[:Z_TRAIN_SIZE], X_z[Z_TRAIN_SIZE:], Y[:Z_TRAIN_SIZE], Y[Z_TRAIN_SIZE:Z_TOTAL_SIZE]\n",
    "z_models = train_and_validate(X_z_train, Y_z_train, regressors, X_test=X_z_test, Y_test=Y_z_test)"
   ]
  },
  {
   "cell_type": "code",
   "execution_count": 11,
   "metadata": {},
   "outputs": [],
   "source": [
    "save_models(face_models, \"./model/encoder/faces/\")\n",
    "save_models(z_models, \"./model/encoder/z/\")\n",
    "\n",
    "save_results(face_models, \"./results/encoder/faces.json\")\n",
    "save_results(z_models, \"./results/encoder/z.json\")"
   ]
  },
  {
   "cell_type": "markdown",
   "metadata": {},
   "source": [
    "## Multiple training sizes"
   ]
  },
  {
   "cell_type": "code",
   "execution_count": 32,
   "metadata": {},
   "outputs": [
    {
     "name": "stdout",
     "output_type": "stream",
     "text": [
      "Model: LinearRegression_0\n",
      "Training ...\n",
      "Testing...\n",
      "MSE   train: 0.000000   validation: 111.767472\n",
      "R2    train: 1.000000   validation: 0.960090\n",
      "Training LinearRegression_0 took 2.140913 s\n",
      "Testing on provided data...\n",
      "MSE   test: 185.409001\n",
      "R2    test: 0.936274\n",
      "-----------------------\n",
      "Model: OrthogonalMatchingPursuit_1\n",
      "Training ...\n"
     ]
    },
    {
     "name": "stderr",
     "output_type": "stream",
     "text": [
      "/home/pawel/Documents/studia/magisterka/CKTinderator/venv/lib/python3.11/site-packages/sklearn/linear_model/_omp.py:435: RuntimeWarning: Orthogonal matching pursuit ended prematurely due to linear dependence in the dictionary. The requested precision might not have been met.\n",
      "  out = _cholesky_omp(\n"
     ]
    },
    {
     "name": "stdout",
     "output_type": "stream",
     "text": [
      "Testing...\n",
      "MSE   train: 0.000000   validation: 409.078028\n",
      "R2    train: 1.000000   validation: 0.858887\n",
      "Training OrthogonalMatchingPursuit_1 took 3.541085 s\n",
      "Testing on provided data...\n",
      "MSE   test: 575.640438\n",
      "R2    test: 0.802760\n",
      "-----------------------\n",
      "Model: RandomForestRegressor_2\n",
      "Training ...\n",
      "Testing...\n",
      "MSE   train: 145.602667   validation: 1068.467636\n",
      "R2    train: 0.949963   validation: 0.628550\n",
      "Training RandomForestRegressor_2 took 341.699455 s\n",
      "Testing on provided data...\n",
      "MSE   test: 1089.594641\n",
      "R2    test: 0.629405\n",
      "-----------------------\n",
      "Model: MLPRegressor_3\n",
      "Training ...\n"
     ]
    },
    {
     "name": "stderr",
     "output_type": "stream",
     "text": [
      "/home/pawel/Documents/studia/magisterka/CKTinderator/venv/lib/python3.11/site-packages/sklearn/neural_network/_multilayer_perceptron.py:691: ConvergenceWarning: Stochastic Optimizer: Maximum iterations (200) reached and the optimization hasn't converged yet.\n",
      "  warnings.warn(\n"
     ]
    },
    {
     "name": "stdout",
     "output_type": "stream",
     "text": [
      "Testing...\n",
      "MSE   train: 2925.206918   validation: 2803.780903\n",
      "R2    train: 0.002917   validation: -0.013191\n",
      "Training MLPRegressor_3 took 53.924958 s\n",
      "Testing on provided data...\n",
      "MSE   test: 2955.810787\n",
      "R2    test: -0.009509\n",
      "-----------------------\n",
      "Model: LinearRegression_0\n",
      "Training ...\n",
      "Testing...\n",
      "MSE   train: 0.000000   validation: 110.456961\n",
      "R2    train: 1.000000   validation: 0.957949\n",
      "Training LinearRegression_0 took 3.104435 s\n",
      "Testing on provided data...\n",
      "MSE   test: 169.894867\n",
      "R2    test: 0.941291\n",
      "-----------------------\n",
      "Model: OrthogonalMatchingPursuit_1\n",
      "Training ...\n"
     ]
    },
    {
     "name": "stderr",
     "output_type": "stream",
     "text": [
      "/home/pawel/Documents/studia/magisterka/CKTinderator/venv/lib/python3.11/site-packages/sklearn/linear_model/_omp.py:435: RuntimeWarning: Orthogonal matching pursuit ended prematurely due to linear dependence in the dictionary. The requested precision might not have been met.\n",
      "  out = _cholesky_omp(\n"
     ]
    },
    {
     "name": "stdout",
     "output_type": "stream",
     "text": [
      "Testing...\n",
      "MSE   train: 0.000000   validation: 361.968424\n",
      "R2    train: 1.000000   validation: 0.863131\n",
      "Training OrthogonalMatchingPursuit_1 took 11.235568 s\n",
      "Testing on provided data...\n",
      "MSE   test: 471.822334\n",
      "R2    test: 0.837427\n",
      "-----------------------\n",
      "Model: RandomForestRegressor_2\n",
      "Training ...\n",
      "Testing...\n",
      "MSE   train: 113.089668   validation: 683.237229\n",
      "R2    train: 0.961652   validation: 0.742935\n",
      "Training RandomForestRegressor_2 took 788.892968 s\n",
      "Testing on provided data...\n",
      "MSE   test: 786.321014\n",
      "R2    test: 0.732080\n",
      "-----------------------\n",
      "Model: MLPRegressor_3\n",
      "Training ...\n"
     ]
    },
    {
     "name": "stderr",
     "output_type": "stream",
     "text": [
      "/home/pawel/Documents/studia/magisterka/CKTinderator/venv/lib/python3.11/site-packages/sklearn/neural_network/_multilayer_perceptron.py:691: ConvergenceWarning: Stochastic Optimizer: Maximum iterations (200) reached and the optimization hasn't converged yet.\n",
      "  warnings.warn(\n"
     ]
    },
    {
     "name": "stdout",
     "output_type": "stream",
     "text": [
      "Testing...\n",
      "MSE   train: 2872.799481   validation: 2691.767527\n",
      "R2    train: 0.019798   validation: 0.003456\n",
      "Training MLPRegressor_3 took 106.487666 s\n",
      "Testing on provided data...\n",
      "MSE   test: 2896.932590\n",
      "R2    test: 0.010824\n",
      "-----------------------\n",
      "Model: LinearRegression_0\n",
      "Training ...\n",
      "Testing...\n",
      "MSE   train: 0.000000   validation: 198.920919\n",
      "R2    train: 1.000000   validation: 0.924650\n",
      "Training LinearRegression_0 took 4.396966 s\n",
      "Testing on provided data...\n",
      "MSE   test: 175.315479\n",
      "R2    test: 0.939365\n",
      "-----------------------\n",
      "Model: OrthogonalMatchingPursuit_1\n",
      "Training ...\n"
     ]
    },
    {
     "name": "stderr",
     "output_type": "stream",
     "text": [
      "/home/pawel/Documents/studia/magisterka/CKTinderator/venv/lib/python3.11/site-packages/sklearn/linear_model/_omp.py:435: RuntimeWarning: Orthogonal matching pursuit ended prematurely due to linear dependence in the dictionary. The requested precision might not have been met.\n",
      "  out = _cholesky_omp(\n"
     ]
    },
    {
     "name": "stdout",
     "output_type": "stream",
     "text": [
      "Testing...\n",
      "MSE   train: 0.000000   validation: 423.024321\n",
      "R2    train: 1.000000   validation: 0.840821\n",
      "Training OrthogonalMatchingPursuit_1 took 24.024349 s\n",
      "Testing on provided data...\n",
      "MSE   test: 408.250173\n",
      "R2    test: 0.859141\n",
      "-----------------------\n",
      "Model: RandomForestRegressor_2\n",
      "Training ...\n",
      "Testing...\n",
      "MSE   train: 97.957678   validation: 721.833976\n",
      "R2    train: 0.966455   validation: 0.752992\n",
      "Training RandomForestRegressor_2 took 1293.282857 s\n",
      "Testing on provided data...\n",
      "MSE   test: 706.229402\n",
      "R2    test: 0.759568\n",
      "-----------------------\n",
      "Model: MLPRegressor_3\n",
      "Training ...\n"
     ]
    },
    {
     "name": "stderr",
     "output_type": "stream",
     "text": [
      "/home/pawel/Documents/studia/magisterka/CKTinderator/venv/lib/python3.11/site-packages/sklearn/neural_network/_multilayer_perceptron.py:691: ConvergenceWarning: Stochastic Optimizer: Maximum iterations (200) reached and the optimization hasn't converged yet.\n",
      "  warnings.warn(\n"
     ]
    },
    {
     "name": "stdout",
     "output_type": "stream",
     "text": [
      "Testing...\n",
      "MSE   train: 2753.303223   validation: 2797.102404\n",
      "R2    train: 0.058618   validation: 0.046863\n",
      "Training MLPRegressor_3 took 160.360831 s\n",
      "Testing on provided data...\n",
      "MSE   test: 2779.306651\n",
      "R2    test: 0.051785\n",
      "-----------------------\n",
      "Model: LinearRegression_0\n",
      "Training ...\n",
      "Testing...\n",
      "MSE   train: 0.000000   validation: 136.878927\n",
      "R2    train: 1.000000   validation: 0.954671\n",
      "Training LinearRegression_0 took 6.238192 s\n",
      "Testing on provided data...\n",
      "MSE   test: 168.319100\n",
      "R2    test: 0.941735\n",
      "-----------------------\n",
      "Model: OrthogonalMatchingPursuit_1\n",
      "Training ...\n"
     ]
    },
    {
     "name": "stderr",
     "output_type": "stream",
     "text": [
      "/home/pawel/Documents/studia/magisterka/CKTinderator/venv/lib/python3.11/site-packages/sklearn/linear_model/_omp.py:435: RuntimeWarning: Orthogonal matching pursuit ended prematurely due to linear dependence in the dictionary. The requested precision might not have been met.\n",
      "  out = _cholesky_omp(\n"
     ]
    },
    {
     "name": "stdout",
     "output_type": "stream",
     "text": [
      "Testing...\n",
      "MSE   train: 0.000000   validation: 408.863276\n",
      "R2    train: 1.000000   validation: 0.864372\n",
      "Training OrthogonalMatchingPursuit_1 took 42.244902 s\n",
      "Testing on provided data...\n",
      "MSE   test: 430.542133\n",
      "R2    test: 0.851081\n",
      "-----------------------\n",
      "Model: RandomForestRegressor_2\n",
      "Training ...\n",
      "Testing...\n",
      "MSE   train: 86.239076   validation: 622.776339\n",
      "R2    train: 0.969699   validation: 0.795297\n",
      "Training RandomForestRegressor_2 took 1842.199831 s\n",
      "Testing on provided data...\n",
      "MSE   test: 641.915340\n",
      "R2    test: 0.781336\n",
      "-----------------------\n",
      "Model: MLPRegressor_3\n",
      "Training ...\n"
     ]
    },
    {
     "name": "stderr",
     "output_type": "stream",
     "text": [
      "/home/pawel/Documents/studia/magisterka/CKTinderator/venv/lib/python3.11/site-packages/sklearn/neural_network/_multilayer_perceptron.py:691: ConvergenceWarning: Stochastic Optimizer: Maximum iterations (200) reached and the optimization hasn't converged yet.\n",
      "  warnings.warn(\n"
     ]
    },
    {
     "name": "stdout",
     "output_type": "stream",
     "text": [
      "Testing...\n",
      "MSE   train: 2627.792898   validation: 2820.169219\n",
      "R2    train: 0.079164   validation: 0.069650\n",
      "Training MLPRegressor_3 took 204.211432 s\n",
      "Testing on provided data...\n",
      "MSE   test: 2721.689778\n",
      "R2    test: 0.071750\n",
      "-----------------------\n",
      "Model: LinearRegression_0\n",
      "Training ...\n",
      "Testing...\n",
      "MSE   train: 0.000000   validation: 233.680800\n",
      "R2    train: 1.000000   validation: 0.919810\n",
      "Training LinearRegression_0 took 8.902577 s\n",
      "Testing on provided data...\n",
      "MSE   test: 185.205599\n",
      "R2    test: 0.935869\n",
      "-----------------------\n",
      "Model: OrthogonalMatchingPursuit_1\n",
      "Training ...\n"
     ]
    },
    {
     "name": "stderr",
     "output_type": "stream",
     "text": [
      "/home/pawel/Documents/studia/magisterka/CKTinderator/venv/lib/python3.11/site-packages/sklearn/linear_model/_omp.py:435: RuntimeWarning: Orthogonal matching pursuit ended prematurely due to linear dependence in the dictionary. The requested precision might not have been met.\n",
      "  out = _cholesky_omp(\n"
     ]
    },
    {
     "name": "stdout",
     "output_type": "stream",
     "text": [
      "Testing...\n",
      "MSE   train: 0.000000   validation: 473.329916\n",
      "R2    train: 1.000000   validation: 0.836294\n",
      "Training OrthogonalMatchingPursuit_1 took 71.313658 s\n",
      "Testing on provided data...\n",
      "MSE   test: 461.010905\n",
      "R2    test: 0.840442\n",
      "-----------------------\n",
      "Model: RandomForestRegressor_2\n",
      "Training ...\n",
      "Testing...\n",
      "MSE   train: 81.895646   validation: 601.311181\n",
      "R2    train: 0.971823   validation: 0.792502\n",
      "Training RandomForestRegressor_2 took 2386.853280 s\n",
      "Testing on provided data...\n",
      "MSE   test: 590.238341\n",
      "R2    test: 0.798775\n",
      "-----------------------\n",
      "Model: MLPRegressor_3\n",
      "Training ...\n"
     ]
    },
    {
     "name": "stderr",
     "output_type": "stream",
     "text": [
      "/home/pawel/Documents/studia/magisterka/CKTinderator/venv/lib/python3.11/site-packages/sklearn/neural_network/_multilayer_perceptron.py:691: ConvergenceWarning: Stochastic Optimizer: Maximum iterations (200) reached and the optimization hasn't converged yet.\n",
      "  warnings.warn(\n"
     ]
    },
    {
     "name": "stdout",
     "output_type": "stream",
     "text": [
      "Testing...\n",
      "MSE   train: 2726.650465   validation: 2749.937654\n",
      "R2    train: 0.062696   validation: 0.054062\n",
      "Training MLPRegressor_3 took 224.050393 s\n",
      "Testing on provided data...\n",
      "MSE   test: 2768.647171\n",
      "R2    test: 0.055365\n",
      "-----------------------\n"
     ]
    }
   ],
   "source": [
    "X_test, Y_test = X_face_test[:1000], Y_face_test[:1000]\n",
    "for size in [200, 400, 600, 800, 1000]:\n",
    "    X_face_train, Y_face_train = X_faces[:size], Y[:size]\n",
    "    models = train_and_validate(X_face_train, Y_face_train, regressors, X_test=X_test, Y_test=Y_test)\n",
    "    save_models(models, f\"./model/encoder/faces/{size}/\")\n",
    "    save_results(models, f\"./results/encoder/faces/{size}.json\")"
   ]
  },
  {
   "cell_type": "markdown",
   "metadata": {},
   "source": [
    "#### Bonus! Trying different MLPs\n"
   ]
  },
  {
   "cell_type": "code",
   "execution_count": null,
   "metadata": {},
   "outputs": [],
   "source": [
    "\n",
    "mlp_regressors = [\n",
    "    MLPRegressor(hidden_layer_sizes=(128),),\n",
    "    MLPRegressor(hidden_layer_sizes=(128, 64)),\n",
    "    MLPRegressor(hidden_layer_sizes=(128, 64, 32)),\n",
    "    MLPRegressor(hidden_layer_sizes=(128, 64, 32, 16)),\n",
    "    MLPRegressor(hidden_layer_sizes=(128, 64, 32, 16, 8))\n",
    "]"
   ]
  },
  {
   "cell_type": "code",
   "execution_count": 16,
   "metadata": {},
   "outputs": [
    {
     "name": "stdout",
     "output_type": "stream",
     "text": [
      "Model: MLPRegressor_0\n",
      "Training ...\n"
     ]
    },
    {
     "name": "stderr",
     "output_type": "stream",
     "text": [
      "/home/pawel/Documents/studia/magisterka/CKTinderator/venv/lib/python3.11/site-packages/sklearn/neural_network/_multilayer_perceptron.py:691: ConvergenceWarning: Stochastic Optimizer: Maximum iterations (200) reached and the optimization hasn't converged yet.\n",
      "  warnings.warn(\n"
     ]
    },
    {
     "name": "stdout",
     "output_type": "stream",
     "text": [
      "Testing...\n",
      "MSE   train: 2588.243542   validation: 2859.380607\n",
      "R2    train: 0.115976   validation: 0.026510\n",
      "Training MLPRegressor_0 took 28.593994 s\n",
      "Testing on provided data...\n",
      "MSE   test: 1837.888326\n",
      "R2    test: 0.378845\n",
      "-----------------------\n",
      "Model: MLPRegressor_1\n",
      "Training ...\n"
     ]
    },
    {
     "name": "stderr",
     "output_type": "stream",
     "text": [
      "/home/pawel/Documents/studia/magisterka/CKTinderator/venv/lib/python3.11/site-packages/sklearn/neural_network/_multilayer_perceptron.py:691: ConvergenceWarning: Stochastic Optimizer: Maximum iterations (200) reached and the optimization hasn't converged yet.\n",
      "  warnings.warn(\n"
     ]
    },
    {
     "name": "stdout",
     "output_type": "stream",
     "text": [
      "Testing...\n",
      "MSE   train: 2102.339593   validation: 3094.887056\n",
      "R2    train: 0.281951   validation: -0.053670\n",
      "Training MLPRegressor_1 took 57.899157 s\n",
      "Testing on provided data...\n",
      "MSE   test: 1964.919060\n",
      "R2    test: 0.335591\n",
      "-----------------------\n",
      "Model: MLPRegressor_2\n",
      "Training ...\n"
     ]
    },
    {
     "name": "stderr",
     "output_type": "stream",
     "text": [
      "/home/pawel/Documents/studia/magisterka/CKTinderator/venv/lib/python3.11/site-packages/sklearn/neural_network/_multilayer_perceptron.py:691: ConvergenceWarning: Stochastic Optimizer: Maximum iterations (200) reached and the optimization hasn't converged yet.\n",
      "  warnings.warn(\n"
     ]
    },
    {
     "name": "stdout",
     "output_type": "stream",
     "text": [
      "Testing...\n",
      "MSE   train: 1491.488160   validation: 3888.193603\n",
      "R2    train: 0.490754   validation: -0.324628\n",
      "Training MLPRegressor_2 took 86.235492 s\n",
      "Testing on provided data...\n",
      "MSE   test: 2833.105375\n",
      "R2    test: 0.040396\n",
      "-----------------------\n",
      "Model: MLPRegressor_3\n",
      "Training ...\n"
     ]
    },
    {
     "name": "stderr",
     "output_type": "stream",
     "text": [
      "/home/pawel/Documents/studia/magisterka/CKTinderator/venv/lib/python3.11/site-packages/sklearn/neural_network/_multilayer_perceptron.py:691: ConvergenceWarning: Stochastic Optimizer: Maximum iterations (200) reached and the optimization hasn't converged yet.\n",
      "  warnings.warn(\n"
     ]
    },
    {
     "name": "stdout",
     "output_type": "stream",
     "text": [
      "Testing...\n",
      "MSE   train: 1245.156741   validation: 4594.400672\n",
      "R2    train: 0.573831   validation: -0.563941\n",
      "Training MLPRegressor_3 took 85.641251 s\n",
      "Testing on provided data...\n",
      "MSE   test: 3506.701890\n",
      "R2    test: -0.189512\n",
      "-----------------------\n",
      "Model: MLPRegressor_4\n",
      "Training ...\n",
      "Testing...\n",
      "MSE   train: 1674.284581   validation: 4357.207539\n",
      "R2    train: 0.428059   validation: -0.484756\n",
      "Training MLPRegressor_4 took 53.888160 s\n",
      "Testing on provided data...\n",
      "MSE   test: 3710.253951\n",
      "R2    test: -0.257127\n",
      "-----------------------\n"
     ]
    },
    {
     "name": "stderr",
     "output_type": "stream",
     "text": [
      "/home/pawel/Documents/studia/magisterka/CKTinderator/venv/lib/python3.11/site-packages/sklearn/neural_network/_multilayer_perceptron.py:691: ConvergenceWarning: Stochastic Optimizer: Maximum iterations (200) reached and the optimization hasn't converged yet.\n",
      "  warnings.warn(\n"
     ]
    }
   ],
   "source": [
    "z_mlp_models = train_and_validate(X_z_train, Y_z_train, mlp_regressors, X_test=X_z_test, Y_test=Y_z_test)"
   ]
  },
  {
   "cell_type": "code",
   "execution_count": 17,
   "metadata": {},
   "outputs": [
    {
     "name": "stdout",
     "output_type": "stream",
     "text": [
      "Model: MLPRegressor_0\n",
      "Training ...\n"
     ]
    },
    {
     "name": "stderr",
     "output_type": "stream",
     "text": [
      "/home/pawel/Documents/studia/magisterka/CKTinderator/venv/lib/python3.11/site-packages/sklearn/neural_network/_multilayer_perceptron.py:691: ConvergenceWarning: Stochastic Optimizer: Maximum iterations (200) reached and the optimization hasn't converged yet.\n",
      "  warnings.warn(\n"
     ]
    },
    {
     "name": "stdout",
     "output_type": "stream",
     "text": [
      "Testing...\n",
      "MSE   train: 1621.199057   validation: 4370.266300\n",
      "R2    train: 0.444777   validation: -0.480488\n",
      "Training MLPRegressor_0 took 90.635764 s\n",
      "Testing on provided data...\n",
      "MSE   test: 3731.174181\n",
      "R2    test: -0.264210\n",
      "-----------------------\n",
      "Model: MLPRegressor_1\n",
      "Training ...\n"
     ]
    },
    {
     "name": "stderr",
     "output_type": "stream",
     "text": [
      "/home/pawel/Documents/studia/magisterka/CKTinderator/venv/lib/python3.11/site-packages/sklearn/neural_network/_multilayer_perceptron.py:691: ConvergenceWarning: Stochastic Optimizer: Maximum iterations (200) reached and the optimization hasn't converged yet.\n",
      "  warnings.warn(\n"
     ]
    },
    {
     "name": "stdout",
     "output_type": "stream",
     "text": [
      "Testing...\n",
      "MSE   train: 1785.886481   validation: 4208.526610\n",
      "R2    train: 0.388666   validation: -0.428263\n",
      "Training MLPRegressor_1 took 67.593153 s\n",
      "Testing on provided data...\n",
      "MSE   test: 3873.832012\n",
      "R2    test: -0.313193\n",
      "-----------------------\n",
      "Model: MLPRegressor_2\n",
      "Training ...\n"
     ]
    },
    {
     "name": "stderr",
     "output_type": "stream",
     "text": [
      "/home/pawel/Documents/studia/magisterka/CKTinderator/venv/lib/python3.11/site-packages/sklearn/neural_network/_multilayer_perceptron.py:698: UserWarning: Training interrupted by user.\n",
      "  warnings.warn(\"Training interrupted by user.\")\n"
     ]
    },
    {
     "name": "stdout",
     "output_type": "stream",
     "text": [
      "Testing...\n",
      "MSE   train: 2380.988848   validation: 3299.848041\n",
      "R2    train: 0.185796   validation: -0.118681\n",
      "Training MLPRegressor_2 took 22.220021 s\n",
      "Testing on provided data...\n",
      "MSE   test: 3141.443045\n",
      "R2    test: -0.064619\n",
      "-----------------------\n",
      "Model: MLPRegressor_3\n",
      "Training ...\n"
     ]
    },
    {
     "name": "stderr",
     "output_type": "stream",
     "text": [
      "/home/pawel/Documents/studia/magisterka/CKTinderator/venv/lib/python3.11/site-packages/sklearn/neural_network/_multilayer_perceptron.py:691: ConvergenceWarning: Stochastic Optimizer: Maximum iterations (200) reached and the optimization hasn't converged yet.\n",
      "  warnings.warn(\n"
     ]
    },
    {
     "name": "stdout",
     "output_type": "stream",
     "text": [
      "Testing...\n",
      "MSE   train: 1625.143582   validation: 4271.744768\n",
      "R2    train: 0.444300   validation: -0.444201\n",
      "Training MLPRegressor_3 took 59.662424 s\n",
      "Testing on provided data...\n",
      "MSE   test: 3687.583618\n",
      "R2    test: -0.252403\n",
      "-----------------------\n",
      "Model: MLPRegressor_4\n",
      "Training ...\n",
      "Testing...\n",
      "MSE   train: 1416.860344   validation: 4712.738722\n",
      "R2    train: 0.515396   validation: -0.601942\n",
      "Training MLPRegressor_4 took 85.440482 s\n",
      "Testing on provided data...\n",
      "MSE   test: 4214.834446\n",
      "R2    test: -0.427988\n",
      "-----------------------\n"
     ]
    },
    {
     "name": "stderr",
     "output_type": "stream",
     "text": [
      "/home/pawel/Documents/studia/magisterka/CKTinderator/venv/lib/python3.11/site-packages/sklearn/neural_network/_multilayer_perceptron.py:691: ConvergenceWarning: Stochastic Optimizer: Maximum iterations (200) reached and the optimization hasn't converged yet.\n",
      "  warnings.warn(\n"
     ]
    }
   ],
   "source": [
    "mlp_bigger_alpha_regressors = [\n",
    "    MLPRegressor(hidden_layer_sizes=(128, 64, 32, 16, 8), alpha=0.001),\n",
    "    MLPRegressor(hidden_layer_sizes=(128, 64, 32, 16, 8), alpha=0.01),\n",
    "    MLPRegressor(hidden_layer_sizes=(128, 64, 32, 16, 8), alpha=0.1),\n",
    "    MLPRegressor(hidden_layer_sizes=(128, 64, 32, 16, 8), alpha=1),\n",
    "    MLPRegressor(hidden_layer_sizes=(128, 64, 32, 16, 8), alpha=10)\n",
    "]\n",
    "    \n",
    "\n",
    "\n",
    "z_mlp_bigger_alpha_models = train_and_validate(X_z_train, Y_z_train, mlp_bigger_alpha_regressors, X_test=X_z_test, Y_test=Y_z_test)"
   ]
  },
  {
   "cell_type": "code",
   "execution_count": 21,
   "metadata": {},
   "outputs": [
    {
     "name": "stdout",
     "output_type": "stream",
     "text": [
      "Model: MLPRegressor_0\n",
      "Training ...\n"
     ]
    },
    {
     "name": "stderr",
     "output_type": "stream",
     "text": [
      "/home/pawel/Documents/studia/magisterka/CKTinderator/venv/lib/python3.11/site-packages/sklearn/neural_network/_multilayer_perceptron.py:691: ConvergenceWarning: Stochastic Optimizer: Maximum iterations (200) reached and the optimization hasn't converged yet.\n",
      "  warnings.warn(\n"
     ]
    },
    {
     "name": "stdout",
     "output_type": "stream",
     "text": [
      "Testing...\n",
      "MSE   train: 2075.482804   validation: 2999.711074\n",
      "R2    train: 0.290986   validation: -0.021803\n",
      "Training MLPRegressor_0 took 35.076074 s\n",
      "Testing on provided data...\n",
      "MSE   test: 1985.666946\n",
      "R2    test: 0.328280\n",
      "-----------------------\n",
      "Model: MLPRegressor_1\n",
      "Training ...\n"
     ]
    },
    {
     "name": "stderr",
     "output_type": "stream",
     "text": [
      "/home/pawel/Documents/studia/magisterka/CKTinderator/venv/lib/python3.11/site-packages/sklearn/neural_network/_multilayer_perceptron.py:691: ConvergenceWarning: Stochastic Optimizer: Maximum iterations (400) reached and the optimization hasn't converged yet.\n",
      "  warnings.warn(\n"
     ]
    },
    {
     "name": "stdout",
     "output_type": "stream",
     "text": [
      "Testing...\n",
      "MSE   train: 1027.253332   validation: 4199.907813\n",
      "R2    train: 0.649038   validation: -0.431527\n",
      "Training MLPRegressor_1 took 85.974538 s\n",
      "Testing on provided data...\n",
      "MSE   test: 3112.836865\n",
      "R2    test: -0.052942\n",
      "-----------------------\n",
      "Model: MLPRegressor_2\n",
      "Training ...\n"
     ]
    },
    {
     "name": "stderr",
     "output_type": "stream",
     "text": [
      "/home/pawel/Documents/studia/magisterka/CKTinderator/venv/lib/python3.11/site-packages/sklearn/neural_network/_multilayer_perceptron.py:691: ConvergenceWarning: Stochastic Optimizer: Maximum iterations (600) reached and the optimization hasn't converged yet.\n",
      "  warnings.warn(\n"
     ]
    },
    {
     "name": "stdout",
     "output_type": "stream",
     "text": [
      "Testing...\n",
      "MSE   train: 500.527108   validation: 5576.276629\n",
      "R2    train: 0.828962   validation: -0.899456\n",
      "Training MLPRegressor_2 took 146.529135 s\n",
      "Testing on provided data...\n",
      "MSE   test: 4544.358006\n",
      "R2    test: -0.538690\n",
      "-----------------------\n",
      "Model: MLPRegressor_3\n",
      "Training ...\n"
     ]
    },
    {
     "name": "stderr",
     "output_type": "stream",
     "text": [
      "/home/pawel/Documents/studia/magisterka/CKTinderator/venv/lib/python3.11/site-packages/sklearn/neural_network/_multilayer_perceptron.py:691: ConvergenceWarning: Stochastic Optimizer: Maximum iterations (800) reached and the optimization hasn't converged yet.\n",
      "  warnings.warn(\n"
     ]
    },
    {
     "name": "stdout",
     "output_type": "stream",
     "text": [
      "Testing...\n",
      "MSE   train: 361.038135   validation: 6368.318591\n",
      "R2    train: 0.876629   validation: -1.170974\n",
      "Training MLPRegressor_3 took 161.944777 s\n",
      "Testing on provided data...\n",
      "MSE   test: 5301.342213\n",
      "R2    test: -0.792946\n",
      "-----------------------\n",
      "Model: MLPRegressor_4\n",
      "Training ...\n"
     ]
    },
    {
     "name": "stderr",
     "output_type": "stream",
     "text": [
      "/home/pawel/Documents/studia/magisterka/CKTinderator/venv/lib/python3.11/site-packages/sklearn/neural_network/_multilayer_perceptron.py:691: ConvergenceWarning: Stochastic Optimizer: Maximum iterations (1000) reached and the optimization hasn't converged yet.\n",
      "  warnings.warn(\n"
     ]
    },
    {
     "name": "stdout",
     "output_type": "stream",
     "text": [
      "Testing...\n",
      "MSE   train: 256.883746   validation: 7017.877939\n",
      "R2    train: 0.912254   validation: -1.391625\n",
      "Training MLPRegressor_4 took 175.791965 s\n",
      "Testing on provided data...\n",
      "MSE   test: 5820.026468\n",
      "R2    test: -0.969657\n",
      "-----------------------\n"
     ]
    }
   ],
   "source": [
    "mlp_different_iter_regressors = [\n",
    "    MLPRegressor(hidden_layer_sizes=(128,64), max_iter=200),\n",
    "    MLPRegressor(hidden_layer_sizes=(128,64), max_iter=400),\n",
    "    MLPRegressor(hidden_layer_sizes=(128,64), max_iter=600),\n",
    "    MLPRegressor(hidden_layer_sizes=(128,64), max_iter=800),\n",
    "    MLPRegressor(hidden_layer_sizes=(128,64), max_iter=1000)\n",
    "]\n",
    "\n",
    "z_mlp_different_iter_models = train_and_validate(X_z_train, Y_z_train, mlp_different_iter_regressors, X_test=X_z_test, Y_test=Y_z_test)"
   ]
  },
  {
   "cell_type": "code",
   "execution_count": 22,
   "metadata": {},
   "outputs": [
    {
     "name": "stdout",
     "output_type": "stream",
     "text": [
      "Model: MLPRegressor_0\n",
      "Training ...\n"
     ]
    },
    {
     "name": "stderr",
     "output_type": "stream",
     "text": [
      "/home/pawel/Documents/studia/magisterka/CKTinderator/venv/lib/python3.11/site-packages/sklearn/neural_network/_multilayer_perceptron.py:691: ConvergenceWarning: Stochastic Optimizer: Maximum iterations (200) reached and the optimization hasn't converged yet.\n",
      "  warnings.warn(\n"
     ]
    },
    {
     "name": "stdout",
     "output_type": "stream",
     "text": [
      "Testing...\n",
      "MSE   train: 2037.291320   validation: 3013.946276\n",
      "R2    train: 0.306350   validation: -0.041283\n",
      "Training MLPRegressor_0 took 61.948158 s\n",
      "Testing on provided data...\n",
      "MSE   test: 2008.732700\n",
      "R2    test: 0.320692\n",
      "-----------------------\n",
      "Model: MLPRegressor_1\n",
      "Training ...\n"
     ]
    },
    {
     "name": "stderr",
     "output_type": "stream",
     "text": [
      "/home/pawel/Documents/studia/magisterka/CKTinderator/venv/lib/python3.11/site-packages/sklearn/neural_network/_multilayer_perceptron.py:691: ConvergenceWarning: Stochastic Optimizer: Maximum iterations (400) reached and the optimization hasn't converged yet.\n",
      "  warnings.warn(\n"
     ]
    },
    {
     "name": "stdout",
     "output_type": "stream",
     "text": [
      "Testing...\n",
      "MSE   train: 798.760349   validation: 4483.733755\n",
      "R2    train: 0.727572   validation: -0.547799\n",
      "Training MLPRegressor_1 took 126.711411 s\n",
      "Testing on provided data...\n",
      "MSE   test: 3641.647301\n",
      "R2    test: -0.231930\n",
      "-----------------------\n",
      "Model: MLPRegressor_2\n",
      "Training ...\n"
     ]
    },
    {
     "name": "stderr",
     "output_type": "stream",
     "text": [
      "/home/pawel/Documents/studia/magisterka/CKTinderator/venv/lib/python3.11/site-packages/sklearn/neural_network/_multilayer_perceptron.py:691: ConvergenceWarning: Stochastic Optimizer: Maximum iterations (600) reached and the optimization hasn't converged yet.\n",
      "  warnings.warn(\n"
     ]
    },
    {
     "name": "stdout",
     "output_type": "stream",
     "text": [
      "Testing...\n",
      "MSE   train: 458.158243   validation: 5616.300629\n",
      "R2    train: 0.843788   validation: -0.939679\n",
      "Training MLPRegressor_2 took 143.417865 s\n",
      "Testing on provided data...\n",
      "MSE   test: 4696.370524\n",
      "R2    test: -0.589742\n",
      "-----------------------\n",
      "Model: MLPRegressor_3\n",
      "Training ...\n"
     ]
    },
    {
     "name": "stderr",
     "output_type": "stream",
     "text": [
      "/home/pawel/Documents/studia/magisterka/CKTinderator/venv/lib/python3.11/site-packages/sklearn/neural_network/_multilayer_perceptron.py:691: ConvergenceWarning: Stochastic Optimizer: Maximum iterations (800) reached and the optimization hasn't converged yet.\n",
      "  warnings.warn(\n"
     ]
    },
    {
     "name": "stdout",
     "output_type": "stream",
     "text": [
      "Testing...\n",
      "MSE   train: 361.631607   validation: 6427.622011\n",
      "R2    train: 0.876739   validation: -1.220290\n",
      "Training MLPRegressor_3 took 214.398274 s\n",
      "Testing on provided data...\n",
      "MSE   test: 5336.007526\n",
      "R2    test: -0.806763\n",
      "-----------------------\n",
      "Model: MLPRegressor_4\n",
      "Training ...\n"
     ]
    },
    {
     "name": "stderr",
     "output_type": "stream",
     "text": [
      "/home/pawel/Documents/studia/magisterka/CKTinderator/venv/lib/python3.11/site-packages/sklearn/neural_network/_multilayer_perceptron.py:691: ConvergenceWarning: Stochastic Optimizer: Maximum iterations (1000) reached and the optimization hasn't converged yet.\n",
      "  warnings.warn(\n"
     ]
    },
    {
     "name": "stdout",
     "output_type": "stream",
     "text": [
      "Testing...\n",
      "MSE   train: 239.871411   validation: 6696.317033\n",
      "R2    train: 0.918254   validation: -1.313555\n",
      "Training MLPRegressor_4 took 224.950246 s\n",
      "Testing on provided data...\n",
      "MSE   test: 5584.159705\n",
      "R2    test: -0.890250\n",
      "-----------------------\n"
     ]
    }
   ],
   "source": [
    "mlp_different_iter_regularizedregressors = [\n",
    "    MLPRegressor(hidden_layer_sizes=(128,64), max_iter=1000, alpha=0.001),\n",
    "    MLPRegressor(hidden_layer_sizes=(128,64), max_iter=1000, alpha=0.01),\n",
    "    MLPRegressor(hidden_layer_sizes=(128,64), max_iter=1000, alpha=0.1),\n",
    "    MLPRegressor(hidden_layer_sizes=(128,64), max_iter=1000, alpha=1),\n",
    "    MLPRegressor(hidden_layer_sizes=(128,64), max_iter=1000, alpha=10),\n",
    "]\n",
    "\n",
    "z_mlp_different_iter_models = train_and_validate(X_z_train, Y_z_train, mlp_different_iter_regressors, X_test=X_z_test, Y_test=Y_z_test)"
   ]
  },
  {
   "cell_type": "code",
   "execution_count": null,
   "metadata": {},
   "outputs": [],
   "source": []
  }
 ],
 "metadata": {
  "kernelspec": {
   "display_name": "venv",
   "language": "python",
   "name": "python3"
  },
  "language_info": {
   "codemirror_mode": {
    "name": "ipython",
    "version": 3
   },
   "file_extension": ".py",
   "mimetype": "text/x-python",
   "name": "python",
   "nbconvert_exporter": "python",
   "pygments_lexer": "ipython3",
   "version": "3.11.4"
  }
 },
 "nbformat": 4,
 "nbformat_minor": 2
}
