{
 "cells": [
  {
   "cell_type": "markdown",
   "metadata": {},
   "source": [
    "# Testing regressors\n",
    "\n",
    "Which of the regressors will be the best to encode a face? Let's find out!\n",
    "\n",
    "This notebook prexents a very naive approach, i.e. we will measure how good a regressor is by the MSE on a game face. The problem is the regressors will be used for real faces, which may casuse the regressor to not be able to infer any meaningful results if overfitted. \n",
    "\n",
    "\n",
    "My plan:\n",
    "1. Get the datasets `X_faces`, `X_z` and `Y` from the training set.\n",
    "2. Get regressors: M_LR, M_OMP, M_RF, M_MLP with default values (at least for now)\n",
    "3. Train the regressors on `X_faces[:1000]` and `Y[:1000]`\n",
    "4. Test the regressors on `X_faces[1000:]` and `Y[1000:]` \n",
    "5. Train the regressors on `X_z[:5000]` and `Y[:5000]`\n",
    "6. Test the regressors on `X_z[5000:]` and `Y[5000:]`\n",
    "7. Compare the results by creating a table with MSE, R2, and time of training and testing.\n",
    "\n",
    "\n",
    "TODO:\n",
    " 1. e2e tests\n",
    " 2. cross-validation for finding best parameters of the best regressors"
   ]
  },
  {
   "cell_type": "markdown",
   "metadata": {},
   "source": [
    "## 1. Preparation"
   ]
  },
  {
   "cell_type": "code",
   "execution_count": 25,
   "metadata": {},
   "outputs": [],
   "source": [
    "import glob\n",
    "import numpy as np\n",
    "import matplotlib.pyplot as plt\n",
    "\n",
    "from time import time\n",
    "from tqdm import tqdm\n",
    "\n",
    "from sklearn.linear_model import LinearRegression, OrthogonalMatchingPursuit\n",
    "from sklearn.ensemble import RandomForestRegressor\n",
    "from sklearn.neural_network import MLPRegressor\n",
    "\n",
    "from sklearn.preprocessing import Normalizer\n",
    "from sklearn.model_selection import train_test_split\n",
    "from sklearn.metrics import mean_squared_error\n",
    "\n",
    "from pathlib import Path\n",
    "import json"
   ]
  },
  {
   "cell_type": "code",
   "execution_count": 3,
   "metadata": {},
   "outputs": [
    {
     "name": "stdout",
     "output_type": "stream",
     "text": [
      "(100000, 65536) (11000, 256) (100000, 5)\n"
     ]
    }
   ],
   "source": [
    "def load_and_concatenate(folder_path):\n",
    "    file_paths = glob.glob(folder_path + '/*.npy')\n",
    "    arrays = [np.load(file_path) for file_path in file_paths]\n",
    "    concatenated_array = np.concatenate(arrays)\n",
    "    return concatenated_array\n",
    "\n",
    "\n",
    "def load_data():\n",
    "    permute = np.load(\"permuted_100000.npy\")\n",
    "    \n",
    "    X_faces = np.load(\"/media/pawel/DATA/tmp/freddie_mercuries/naive_input.npy\")[permute]\n",
    "    X_z = load_and_concatenate(\"/media/pawel/DATA/tmp/freddie_mercuries/en_face/vectors\")\n",
    "    Y = np.load(\"./data/outvec.npy\")[permute]\n",
    "    \n",
    "    return X_faces, X_z, Y\n",
    "\n",
    "\n",
    "X_faces, X_z, Y = load_data()\n",
    "print(X_faces.shape, X_z.shape, Y.shape)"
   ]
  },
  {
   "cell_type": "code",
   "execution_count": 4,
   "metadata": {},
   "outputs": [],
   "source": [
    "def get_regressors():\n",
    "    regressors = [\n",
    "        LinearRegression(),\n",
    "        OrthogonalMatchingPursuit(),\n",
    "        RandomForestRegressor(),\n",
    "        MLPRegressor()\n",
    "    ]\n",
    "    return regressors\n",
    "\n",
    "regressors = get_regressors()"
   ]
  },
  {
   "cell_type": "markdown",
   "metadata": {},
   "source": [
    "## 2. Training\n",
    "\n"
   ]
  },
  {
   "cell_type": "code",
   "execution_count": 23,
   "metadata": {},
   "outputs": [],
   "source": [
    "def train_and_validate(X, Y, regressors, X_test=None, Y_test=None):\n",
    "    X_train, X_valid, Y_train, Y_valid = train_test_split(X, Y, test_size=0.2, random_state=42)\n",
    "    \n",
    "    normalizer = Normalizer()\n",
    "    X_train = normalizer.fit_transform(X_train)\n",
    "    X_valid = normalizer.transform(X_valid)\n",
    "    X_test = normalizer.transform(X_test) if X_test is not None else None\n",
    "    \n",
    "    models = { f\"{regressor.__class__.__name__}_{i}\": {\n",
    "        \"scores\": {\n",
    "            \"train\": {},\n",
    "            \"valid\": {},\n",
    "            \"test\": {}\n",
    "            }\n",
    "        }      for i, regressor in enumerate(regressors) }\n",
    "    \n",
    "    for i, regressor in enumerate(regressors):\n",
    "        name = f\"{regressor.__class__.__name__}_{i}\"\n",
    "        print(f\"Model: {name}\")\n",
    "        \n",
    "        print(f\"Training ...\")\n",
    "        t1 = time()\n",
    "        regressor.fit(X_train, Y_train)\n",
    "        models[name][\"scores\"][\"train\"][\"time\"] = time() - t1\n",
    "        models[name][\"model\"] = regressor\n",
    "        models[name][\"scores\"][\"train\"][\"mse\"] = mean_squared_error(Y_train, regressor.predict(X_train))\n",
    "        models[name][\"scores\"][\"train\"][\"r2\"] = regressor.score(X_train, Y_train)\n",
    "        \n",
    "        print(\"Testing...\")\n",
    "        Y_pred = regressor.predict(X_valid)\n",
    "        models[name][\"scores\"]['valid'][\"mse\"] = mean_squared_error(Y_valid, Y_pred)\n",
    "        models[name][\"scores\"]['valid'][\"r2\"] = regressor.score(X_valid, Y_valid)\n",
    "\n",
    "        print(f\"MSE   train: {models[name]['scores']['train']['mse']:6f}   validation: {models[name]['scores']['valid']['mse']:6f}\")\n",
    "        print(f\"R2    train: {models[name]['scores']['train']['r2']:6f}   validation: {models[name]['scores']['valid']['r2']:6f}\")\n",
    "        print(f\"Training {name} took {models[name]['scores']['train']['time']:4f} s\")\n",
    "        \n",
    "        if X_test is not None and Y_test is not None:\n",
    "            print(f\"Testing on provided data...\")\n",
    "            Y_pred = regressor.predict(X_test)\n",
    "            models[name][\"scores\"][\"test\"][\"mse\"] = mean_squared_error(Y_test, Y_pred)\n",
    "            models[name][\"scores\"][\"test\"][\"r2\"] = regressor.score(X_test, Y_test)\n",
    "            print(f\"MSE   test: {models[name]['scores']['test']['mse']:6f}\")\n",
    "            print(f\"R2    test: {models[name]['scores']['test']['r2']:6f}\")\n",
    "        print(\"-----------------------\")\n",
    "        \n",
    "    return models"
   ]
  },
  {
   "cell_type": "code",
   "execution_count": 28,
   "metadata": {},
   "outputs": [],
   "source": [
    "def save_model(model, path):\n",
    "    Path(path).parent.mkdir(parents=True, exist_ok=True)\n",
    "    np.save(path, model)\n",
    "    \n",
    "def save_models(models, path):\n",
    "    for name, model in models.items():\n",
    "        save_model(model['model'], path + name + \".npy\")\n",
    "        \n",
    "def save_results(results: dict, path):\n",
    "    Path(path).parent.mkdir(parents=True, exist_ok=True)\n",
    "    with open(path, 'w') as f:\n",
    "        json.dump(results, f, default=lambda o: '<not serializable>')\n",
    "    "
   ]
  },
  {
   "cell_type": "markdown",
   "metadata": {},
   "source": [
    "\n",
    "### Faces"
   ]
  },
  {
   "cell_type": "code",
   "execution_count": 8,
   "metadata": {},
   "outputs": [
    {
     "name": "stdout",
     "output_type": "stream",
     "text": [
      "Model: LinearRegression\n",
      "Training ...\n",
      "Testing...\n",
      "MSE   train: 0.000000   validation: 215.349699\n",
      "R2    train: 1.000000   validation: 0.931399\n",
      "Training LinearRegression took 11.112163 s\n",
      "Testing on provided data...\n",
      "MSE   test: 195.589463\n",
      "R2    test: 0.932260\n",
      "-----------------------\n",
      "Model: OrthogonalMatchingPursuit\n",
      "Training ...\n"
     ]
    },
    {
     "name": "stderr",
     "output_type": "stream",
     "text": [
      "/home/pawel/Documents/studia/magisterka/CKTinderator/venv/lib/python3.11/site-packages/sklearn/linear_model/_omp.py:435: RuntimeWarning: Orthogonal matching pursuit ended prematurely due to linear dependence in the dictionary. The requested precision might not have been met.\n",
      "  out = _cholesky_omp(\n"
     ]
    },
    {
     "name": "stdout",
     "output_type": "stream",
     "text": [
      "Testing...\n",
      "MSE   train: 0.000000   validation: 496.780953\n",
      "R2    train: 1.000000   validation: 0.841044\n",
      "Training OrthogonalMatchingPursuit took 98.066185 s\n",
      "Testing on provided data...\n",
      "MSE   test: 475.542824\n",
      "R2    test: 0.835402\n",
      "-----------------------\n",
      "Model: RandomForestRegressor\n",
      "Training ...\n",
      "Testing...\n",
      "MSE   train: 83.609110   validation: 594.817234\n",
      "R2    train: 0.971118   validation: 0.796814\n",
      "Training RandomForestRegressor took 2427.769744 s\n",
      "Testing on provided data...\n",
      "MSE   test: 593.777755\n",
      "R2    test: 0.797492\n",
      "-----------------------\n",
      "Model: MLPRegressor\n",
      "Training ...\n"
     ]
    },
    {
     "name": "stderr",
     "output_type": "stream",
     "text": [
      "/home/pawel/Documents/studia/magisterka/CKTinderator/venv/lib/python3.11/site-packages/sklearn/neural_network/_multilayer_perceptron.py:691: ConvergenceWarning: Stochastic Optimizer: Maximum iterations (200) reached and the optimization hasn't converged yet.\n",
      "  warnings.warn(\n"
     ]
    },
    {
     "name": "stdout",
     "output_type": "stream",
     "text": [
      "Testing...\n",
      "MSE   train: 2594.282733   validation: 2624.482599\n",
      "R2    train: 0.106170   validation: 0.096522\n",
      "Training MLPRegressor took 264.611069 s\n",
      "Testing on provided data...\n",
      "MSE   test: 2641.165863\n",
      "R2    test: 0.099468\n",
      "-----------------------\n"
     ]
    }
   ],
   "source": [
    "FACES_TEST_SIZE = 1000\n",
    "\n",
    "\n",
    "X_face_train, X_face_test, Y_face_train, Y_face_test = X_faces[:FACES_TEST_SIZE], X_faces[FACES_TEST_SIZE:], Y[:FACES_TEST_SIZE], Y[FACES_TEST_SIZE:]\n",
    "face_models = train_and_validate(X_face_train, Y_face_train, regressors, X_test=X_face_test[:1000], Y_test=Y_face_test[:1000])\n"
   ]
  },
  {
   "cell_type": "markdown",
   "metadata": {},
   "source": [
    "### Z"
   ]
  },
  {
   "cell_type": "code",
   "execution_count": 9,
   "metadata": {},
   "outputs": [
    {
     "name": "stdout",
     "output_type": "stream",
     "text": [
      "Model: LinearRegression\n",
      "Training ...\n",
      "Testing...\n",
      "MSE   train: 2626.518847   validation: 2764.595554\n",
      "R2    train: 0.107148   validation: 0.040685\n",
      "Training LinearRegression took 0.324778 s\n",
      "Testing on provided data...\n",
      "MSE   test: 1839.819431\n",
      "R2    test: 0.378103\n",
      "-----------------------\n",
      "Model: OrthogonalMatchingPursuit\n",
      "Training ...\n",
      "Testing...\n",
      "MSE   train: 2792.708585   validation: 2829.536494\n",
      "R2    train: 0.050653   validation: 0.017830\n",
      "Training OrthogonalMatchingPursuit took 0.033734 s\n",
      "Testing on provided data...\n",
      "MSE   test: 2453.016719\n",
      "R2    test: 0.169728\n",
      "-----------------------\n",
      "Model: RandomForestRegressor\n",
      "Training ...\n",
      "Testing...\n",
      "MSE   train: 410.717816   validation: 2863.176646\n",
      "R2    train: 0.860381   validation: 0.006056\n",
      "Training RandomForestRegressor took 198.296329 s\n",
      "Testing on provided data...\n",
      "MSE   test: 2842.678070\n",
      "R2    test: 0.036918\n",
      "-----------------------\n",
      "Model: MLPRegressor\n",
      "Training ...\n",
      "Testing...\n",
      "MSE   train: 2617.501513   validation: 2750.399628\n",
      "R2    train: 0.110203   validation: 0.045606\n",
      "Training MLPRegressor took 16.649154 s\n",
      "Testing on provided data...\n",
      "MSE   test: 1876.069027\n",
      "R2    test: 0.365752\n",
      "-----------------------\n"
     ]
    },
    {
     "name": "stderr",
     "output_type": "stream",
     "text": [
      "/home/pawel/Documents/studia/magisterka/CKTinderator/venv/lib/python3.11/site-packages/sklearn/neural_network/_multilayer_perceptron.py:691: ConvergenceWarning: Stochastic Optimizer: Maximum iterations (200) reached and the optimization hasn't converged yet.\n",
      "  warnings.warn(\n"
     ]
    }
   ],
   "source": [
    "Z_TEST_SIZE = 10000\n",
    "Z_TOTAL_SIZE = X_z.shape[0]\n",
    "\n",
    "X_z_train, X_z_test, Y_z_train, Y_z_test = X_z[:Z_TEST_SIZE], X_z[Z_TEST_SIZE:], Y[:Z_TEST_SIZE], Y[Z_TEST_SIZE:Z_TOTAL_SIZE]\n",
    "z_models = train_and_validate(X_z_train, Y_z_train, regressors, X_test=X_z_test, Y_test=Y_z_test)"
   ]
  },
  {
   "cell_type": "code",
   "execution_count": 29,
   "metadata": {},
   "outputs": [],
   "source": [
    "save_models(face_models, \"./model/encoder/faces/\")\n",
    "save_models(z_models, \"./model/encoder/z/\")\n",
    "\n",
    "save_results(face_models, \"./results/encoder/faces.json\")\n",
    "save_results(z_models, \"./results/encoder/z.json\")"
   ]
  },
  {
   "cell_type": "markdown",
   "metadata": {},
   "source": [
    "## Multiple training sizes"
   ]
  },
  {
   "cell_type": "code",
   "execution_count": null,
   "metadata": {},
   "outputs": [],
   "source": [
    "X_test, Y_test = X_face_test[:1000], Y_face_test[:1000]\n",
    "for size in [200, 400, 600, 800, 1000]:\n",
    "    X, Y = X_faces[:size], Y[:size]\n",
    "    models = train_and_validate(X, Y, regressors, X_test=X_test, Y_test=Y_test)\n",
    "    save_models(models, f\"./model/encoder/faces/{size}/\")\n",
    "    save_results(models, f\"./results/encoder/faces/{size}.json\")"
   ]
  },
  {
   "cell_type": "markdown",
   "metadata": {},
   "source": [
    "#### Bonus! Trying different MLPs\n"
   ]
  },
  {
   "cell_type": "code",
   "execution_count": null,
   "metadata": {},
   "outputs": [],
   "source": [
    "\n",
    "mlp_regressors = [\n",
    "    MLPRegressor(hidden_layer_sizes=(128),),\n",
    "    MLPRegressor(hidden_layer_sizes=(128, 64)),\n",
    "    MLPRegressor(hidden_layer_sizes=(128, 64, 32)),\n",
    "    MLPRegressor(hidden_layer_sizes=(128, 64, 32, 16)),\n",
    "    MLPRegressor(hidden_layer_sizes=(128, 64, 32, 16, 8))\n",
    "]"
   ]
  },
  {
   "cell_type": "code",
   "execution_count": 16,
   "metadata": {},
   "outputs": [
    {
     "name": "stdout",
     "output_type": "stream",
     "text": [
      "Model: MLPRegressor_0\n",
      "Training ...\n"
     ]
    },
    {
     "name": "stderr",
     "output_type": "stream",
     "text": [
      "/home/pawel/Documents/studia/magisterka/CKTinderator/venv/lib/python3.11/site-packages/sklearn/neural_network/_multilayer_perceptron.py:691: ConvergenceWarning: Stochastic Optimizer: Maximum iterations (200) reached and the optimization hasn't converged yet.\n",
      "  warnings.warn(\n"
     ]
    },
    {
     "name": "stdout",
     "output_type": "stream",
     "text": [
      "Testing...\n",
      "MSE   train: 2588.243542   validation: 2859.380607\n",
      "R2    train: 0.115976   validation: 0.026510\n",
      "Training MLPRegressor_0 took 28.593994 s\n",
      "Testing on provided data...\n",
      "MSE   test: 1837.888326\n",
      "R2    test: 0.378845\n",
      "-----------------------\n",
      "Model: MLPRegressor_1\n",
      "Training ...\n"
     ]
    },
    {
     "name": "stderr",
     "output_type": "stream",
     "text": [
      "/home/pawel/Documents/studia/magisterka/CKTinderator/venv/lib/python3.11/site-packages/sklearn/neural_network/_multilayer_perceptron.py:691: ConvergenceWarning: Stochastic Optimizer: Maximum iterations (200) reached and the optimization hasn't converged yet.\n",
      "  warnings.warn(\n"
     ]
    },
    {
     "name": "stdout",
     "output_type": "stream",
     "text": [
      "Testing...\n",
      "MSE   train: 2102.339593   validation: 3094.887056\n",
      "R2    train: 0.281951   validation: -0.053670\n",
      "Training MLPRegressor_1 took 57.899157 s\n",
      "Testing on provided data...\n",
      "MSE   test: 1964.919060\n",
      "R2    test: 0.335591\n",
      "-----------------------\n",
      "Model: MLPRegressor_2\n",
      "Training ...\n"
     ]
    },
    {
     "name": "stderr",
     "output_type": "stream",
     "text": [
      "/home/pawel/Documents/studia/magisterka/CKTinderator/venv/lib/python3.11/site-packages/sklearn/neural_network/_multilayer_perceptron.py:691: ConvergenceWarning: Stochastic Optimizer: Maximum iterations (200) reached and the optimization hasn't converged yet.\n",
      "  warnings.warn(\n"
     ]
    },
    {
     "name": "stdout",
     "output_type": "stream",
     "text": [
      "Testing...\n",
      "MSE   train: 1491.488160   validation: 3888.193603\n",
      "R2    train: 0.490754   validation: -0.324628\n",
      "Training MLPRegressor_2 took 86.235492 s\n",
      "Testing on provided data...\n",
      "MSE   test: 2833.105375\n",
      "R2    test: 0.040396\n",
      "-----------------------\n",
      "Model: MLPRegressor_3\n",
      "Training ...\n"
     ]
    },
    {
     "name": "stderr",
     "output_type": "stream",
     "text": [
      "/home/pawel/Documents/studia/magisterka/CKTinderator/venv/lib/python3.11/site-packages/sklearn/neural_network/_multilayer_perceptron.py:691: ConvergenceWarning: Stochastic Optimizer: Maximum iterations (200) reached and the optimization hasn't converged yet.\n",
      "  warnings.warn(\n"
     ]
    },
    {
     "name": "stdout",
     "output_type": "stream",
     "text": [
      "Testing...\n",
      "MSE   train: 1245.156741   validation: 4594.400672\n",
      "R2    train: 0.573831   validation: -0.563941\n",
      "Training MLPRegressor_3 took 85.641251 s\n",
      "Testing on provided data...\n",
      "MSE   test: 3506.701890\n",
      "R2    test: -0.189512\n",
      "-----------------------\n",
      "Model: MLPRegressor_4\n",
      "Training ...\n",
      "Testing...\n",
      "MSE   train: 1674.284581   validation: 4357.207539\n",
      "R2    train: 0.428059   validation: -0.484756\n",
      "Training MLPRegressor_4 took 53.888160 s\n",
      "Testing on provided data...\n",
      "MSE   test: 3710.253951\n",
      "R2    test: -0.257127\n",
      "-----------------------\n"
     ]
    },
    {
     "name": "stderr",
     "output_type": "stream",
     "text": [
      "/home/pawel/Documents/studia/magisterka/CKTinderator/venv/lib/python3.11/site-packages/sklearn/neural_network/_multilayer_perceptron.py:691: ConvergenceWarning: Stochastic Optimizer: Maximum iterations (200) reached and the optimization hasn't converged yet.\n",
      "  warnings.warn(\n"
     ]
    }
   ],
   "source": [
    "z_mlp_models = train_and_validate(X_z_train, Y_z_train, mlp_regressors, X_test=X_z_test, Y_test=Y_z_test)"
   ]
  },
  {
   "cell_type": "code",
   "execution_count": 17,
   "metadata": {},
   "outputs": [
    {
     "name": "stdout",
     "output_type": "stream",
     "text": [
      "Model: MLPRegressor_0\n",
      "Training ...\n"
     ]
    },
    {
     "name": "stderr",
     "output_type": "stream",
     "text": [
      "/home/pawel/Documents/studia/magisterka/CKTinderator/venv/lib/python3.11/site-packages/sklearn/neural_network/_multilayer_perceptron.py:691: ConvergenceWarning: Stochastic Optimizer: Maximum iterations (200) reached and the optimization hasn't converged yet.\n",
      "  warnings.warn(\n"
     ]
    },
    {
     "name": "stdout",
     "output_type": "stream",
     "text": [
      "Testing...\n",
      "MSE   train: 1621.199057   validation: 4370.266300\n",
      "R2    train: 0.444777   validation: -0.480488\n",
      "Training MLPRegressor_0 took 90.635764 s\n",
      "Testing on provided data...\n",
      "MSE   test: 3731.174181\n",
      "R2    test: -0.264210\n",
      "-----------------------\n",
      "Model: MLPRegressor_1\n",
      "Training ...\n"
     ]
    },
    {
     "name": "stderr",
     "output_type": "stream",
     "text": [
      "/home/pawel/Documents/studia/magisterka/CKTinderator/venv/lib/python3.11/site-packages/sklearn/neural_network/_multilayer_perceptron.py:691: ConvergenceWarning: Stochastic Optimizer: Maximum iterations (200) reached and the optimization hasn't converged yet.\n",
      "  warnings.warn(\n"
     ]
    },
    {
     "name": "stdout",
     "output_type": "stream",
     "text": [
      "Testing...\n",
      "MSE   train: 1785.886481   validation: 4208.526610\n",
      "R2    train: 0.388666   validation: -0.428263\n",
      "Training MLPRegressor_1 took 67.593153 s\n",
      "Testing on provided data...\n",
      "MSE   test: 3873.832012\n",
      "R2    test: -0.313193\n",
      "-----------------------\n",
      "Model: MLPRegressor_2\n",
      "Training ...\n"
     ]
    },
    {
     "name": "stderr",
     "output_type": "stream",
     "text": [
      "/home/pawel/Documents/studia/magisterka/CKTinderator/venv/lib/python3.11/site-packages/sklearn/neural_network/_multilayer_perceptron.py:698: UserWarning: Training interrupted by user.\n",
      "  warnings.warn(\"Training interrupted by user.\")\n"
     ]
    },
    {
     "name": "stdout",
     "output_type": "stream",
     "text": [
      "Testing...\n",
      "MSE   train: 2380.988848   validation: 3299.848041\n",
      "R2    train: 0.185796   validation: -0.118681\n",
      "Training MLPRegressor_2 took 22.220021 s\n",
      "Testing on provided data...\n",
      "MSE   test: 3141.443045\n",
      "R2    test: -0.064619\n",
      "-----------------------\n",
      "Model: MLPRegressor_3\n",
      "Training ...\n"
     ]
    },
    {
     "name": "stderr",
     "output_type": "stream",
     "text": [
      "/home/pawel/Documents/studia/magisterka/CKTinderator/venv/lib/python3.11/site-packages/sklearn/neural_network/_multilayer_perceptron.py:691: ConvergenceWarning: Stochastic Optimizer: Maximum iterations (200) reached and the optimization hasn't converged yet.\n",
      "  warnings.warn(\n"
     ]
    },
    {
     "name": "stdout",
     "output_type": "stream",
     "text": [
      "Testing...\n",
      "MSE   train: 1625.143582   validation: 4271.744768\n",
      "R2    train: 0.444300   validation: -0.444201\n",
      "Training MLPRegressor_3 took 59.662424 s\n",
      "Testing on provided data...\n",
      "MSE   test: 3687.583618\n",
      "R2    test: -0.252403\n",
      "-----------------------\n",
      "Model: MLPRegressor_4\n",
      "Training ...\n",
      "Testing...\n",
      "MSE   train: 1416.860344   validation: 4712.738722\n",
      "R2    train: 0.515396   validation: -0.601942\n",
      "Training MLPRegressor_4 took 85.440482 s\n",
      "Testing on provided data...\n",
      "MSE   test: 4214.834446\n",
      "R2    test: -0.427988\n",
      "-----------------------\n"
     ]
    },
    {
     "name": "stderr",
     "output_type": "stream",
     "text": [
      "/home/pawel/Documents/studia/magisterka/CKTinderator/venv/lib/python3.11/site-packages/sklearn/neural_network/_multilayer_perceptron.py:691: ConvergenceWarning: Stochastic Optimizer: Maximum iterations (200) reached and the optimization hasn't converged yet.\n",
      "  warnings.warn(\n"
     ]
    }
   ],
   "source": [
    "mlp_bigger_alpha_regressors = [\n",
    "    MLPRegressor(hidden_layer_sizes=(128, 64, 32, 16, 8), alpha=0.001),\n",
    "    MLPRegressor(hidden_layer_sizes=(128, 64, 32, 16, 8), alpha=0.01),\n",
    "    MLPRegressor(hidden_layer_sizes=(128, 64, 32, 16, 8), alpha=0.1),\n",
    "    MLPRegressor(hidden_layer_sizes=(128, 64, 32, 16, 8), alpha=1),\n",
    "    MLPRegressor(hidden_layer_sizes=(128, 64, 32, 16, 8), alpha=10)\n",
    "]\n",
    "    \n",
    "\n",
    "\n",
    "z_mlp_bigger_alpha_models = train_and_validate(X_z_train, Y_z_train, mlp_bigger_alpha_regressors, X_test=X_z_test, Y_test=Y_z_test)"
   ]
  },
  {
   "cell_type": "code",
   "execution_count": 21,
   "metadata": {},
   "outputs": [
    {
     "name": "stdout",
     "output_type": "stream",
     "text": [
      "Model: MLPRegressor_0\n",
      "Training ...\n"
     ]
    },
    {
     "name": "stderr",
     "output_type": "stream",
     "text": [
      "/home/pawel/Documents/studia/magisterka/CKTinderator/venv/lib/python3.11/site-packages/sklearn/neural_network/_multilayer_perceptron.py:691: ConvergenceWarning: Stochastic Optimizer: Maximum iterations (200) reached and the optimization hasn't converged yet.\n",
      "  warnings.warn(\n"
     ]
    },
    {
     "name": "stdout",
     "output_type": "stream",
     "text": [
      "Testing...\n",
      "MSE   train: 2075.482804   validation: 2999.711074\n",
      "R2    train: 0.290986   validation: -0.021803\n",
      "Training MLPRegressor_0 took 35.076074 s\n",
      "Testing on provided data...\n",
      "MSE   test: 1985.666946\n",
      "R2    test: 0.328280\n",
      "-----------------------\n",
      "Model: MLPRegressor_1\n",
      "Training ...\n"
     ]
    },
    {
     "name": "stderr",
     "output_type": "stream",
     "text": [
      "/home/pawel/Documents/studia/magisterka/CKTinderator/venv/lib/python3.11/site-packages/sklearn/neural_network/_multilayer_perceptron.py:691: ConvergenceWarning: Stochastic Optimizer: Maximum iterations (400) reached and the optimization hasn't converged yet.\n",
      "  warnings.warn(\n"
     ]
    },
    {
     "name": "stdout",
     "output_type": "stream",
     "text": [
      "Testing...\n",
      "MSE   train: 1027.253332   validation: 4199.907813\n",
      "R2    train: 0.649038   validation: -0.431527\n",
      "Training MLPRegressor_1 took 85.974538 s\n",
      "Testing on provided data...\n",
      "MSE   test: 3112.836865\n",
      "R2    test: -0.052942\n",
      "-----------------------\n",
      "Model: MLPRegressor_2\n",
      "Training ...\n"
     ]
    },
    {
     "name": "stderr",
     "output_type": "stream",
     "text": [
      "/home/pawel/Documents/studia/magisterka/CKTinderator/venv/lib/python3.11/site-packages/sklearn/neural_network/_multilayer_perceptron.py:691: ConvergenceWarning: Stochastic Optimizer: Maximum iterations (600) reached and the optimization hasn't converged yet.\n",
      "  warnings.warn(\n"
     ]
    },
    {
     "name": "stdout",
     "output_type": "stream",
     "text": [
      "Testing...\n",
      "MSE   train: 500.527108   validation: 5576.276629\n",
      "R2    train: 0.828962   validation: -0.899456\n",
      "Training MLPRegressor_2 took 146.529135 s\n",
      "Testing on provided data...\n",
      "MSE   test: 4544.358006\n",
      "R2    test: -0.538690\n",
      "-----------------------\n",
      "Model: MLPRegressor_3\n",
      "Training ...\n"
     ]
    },
    {
     "name": "stderr",
     "output_type": "stream",
     "text": [
      "/home/pawel/Documents/studia/magisterka/CKTinderator/venv/lib/python3.11/site-packages/sklearn/neural_network/_multilayer_perceptron.py:691: ConvergenceWarning: Stochastic Optimizer: Maximum iterations (800) reached and the optimization hasn't converged yet.\n",
      "  warnings.warn(\n"
     ]
    },
    {
     "name": "stdout",
     "output_type": "stream",
     "text": [
      "Testing...\n",
      "MSE   train: 361.038135   validation: 6368.318591\n",
      "R2    train: 0.876629   validation: -1.170974\n",
      "Training MLPRegressor_3 took 161.944777 s\n",
      "Testing on provided data...\n",
      "MSE   test: 5301.342213\n",
      "R2    test: -0.792946\n",
      "-----------------------\n",
      "Model: MLPRegressor_4\n",
      "Training ...\n"
     ]
    },
    {
     "name": "stderr",
     "output_type": "stream",
     "text": [
      "/home/pawel/Documents/studia/magisterka/CKTinderator/venv/lib/python3.11/site-packages/sklearn/neural_network/_multilayer_perceptron.py:691: ConvergenceWarning: Stochastic Optimizer: Maximum iterations (1000) reached and the optimization hasn't converged yet.\n",
      "  warnings.warn(\n"
     ]
    },
    {
     "name": "stdout",
     "output_type": "stream",
     "text": [
      "Testing...\n",
      "MSE   train: 256.883746   validation: 7017.877939\n",
      "R2    train: 0.912254   validation: -1.391625\n",
      "Training MLPRegressor_4 took 175.791965 s\n",
      "Testing on provided data...\n",
      "MSE   test: 5820.026468\n",
      "R2    test: -0.969657\n",
      "-----------------------\n"
     ]
    }
   ],
   "source": [
    "mlp_different_iter_regressors = [\n",
    "    MLPRegressor(hidden_layer_sizes=(128,64), max_iter=200),\n",
    "    MLPRegressor(hidden_layer_sizes=(128,64), max_iter=400),\n",
    "    MLPRegressor(hidden_layer_sizes=(128,64), max_iter=600),\n",
    "    MLPRegressor(hidden_layer_sizes=(128,64), max_iter=800),\n",
    "    MLPRegressor(hidden_layer_sizes=(128,64), max_iter=1000)\n",
    "]\n",
    "\n",
    "z_mlp_different_iter_models = train_and_validate(X_z_train, Y_z_train, mlp_different_iter_regressors, X_test=X_z_test, Y_test=Y_z_test)"
   ]
  },
  {
   "cell_type": "code",
   "execution_count": 22,
   "metadata": {},
   "outputs": [
    {
     "name": "stdout",
     "output_type": "stream",
     "text": [
      "Model: MLPRegressor_0\n",
      "Training ...\n"
     ]
    },
    {
     "name": "stderr",
     "output_type": "stream",
     "text": [
      "/home/pawel/Documents/studia/magisterka/CKTinderator/venv/lib/python3.11/site-packages/sklearn/neural_network/_multilayer_perceptron.py:691: ConvergenceWarning: Stochastic Optimizer: Maximum iterations (200) reached and the optimization hasn't converged yet.\n",
      "  warnings.warn(\n"
     ]
    },
    {
     "name": "stdout",
     "output_type": "stream",
     "text": [
      "Testing...\n",
      "MSE   train: 2037.291320   validation: 3013.946276\n",
      "R2    train: 0.306350   validation: -0.041283\n",
      "Training MLPRegressor_0 took 61.948158 s\n",
      "Testing on provided data...\n",
      "MSE   test: 2008.732700\n",
      "R2    test: 0.320692\n",
      "-----------------------\n",
      "Model: MLPRegressor_1\n",
      "Training ...\n"
     ]
    },
    {
     "name": "stderr",
     "output_type": "stream",
     "text": [
      "/home/pawel/Documents/studia/magisterka/CKTinderator/venv/lib/python3.11/site-packages/sklearn/neural_network/_multilayer_perceptron.py:691: ConvergenceWarning: Stochastic Optimizer: Maximum iterations (400) reached and the optimization hasn't converged yet.\n",
      "  warnings.warn(\n"
     ]
    },
    {
     "name": "stdout",
     "output_type": "stream",
     "text": [
      "Testing...\n",
      "MSE   train: 798.760349   validation: 4483.733755\n",
      "R2    train: 0.727572   validation: -0.547799\n",
      "Training MLPRegressor_1 took 126.711411 s\n",
      "Testing on provided data...\n",
      "MSE   test: 3641.647301\n",
      "R2    test: -0.231930\n",
      "-----------------------\n",
      "Model: MLPRegressor_2\n",
      "Training ...\n"
     ]
    },
    {
     "name": "stderr",
     "output_type": "stream",
     "text": [
      "/home/pawel/Documents/studia/magisterka/CKTinderator/venv/lib/python3.11/site-packages/sklearn/neural_network/_multilayer_perceptron.py:691: ConvergenceWarning: Stochastic Optimizer: Maximum iterations (600) reached and the optimization hasn't converged yet.\n",
      "  warnings.warn(\n"
     ]
    },
    {
     "name": "stdout",
     "output_type": "stream",
     "text": [
      "Testing...\n",
      "MSE   train: 458.158243   validation: 5616.300629\n",
      "R2    train: 0.843788   validation: -0.939679\n",
      "Training MLPRegressor_2 took 143.417865 s\n",
      "Testing on provided data...\n",
      "MSE   test: 4696.370524\n",
      "R2    test: -0.589742\n",
      "-----------------------\n",
      "Model: MLPRegressor_3\n",
      "Training ...\n"
     ]
    },
    {
     "name": "stderr",
     "output_type": "stream",
     "text": [
      "/home/pawel/Documents/studia/magisterka/CKTinderator/venv/lib/python3.11/site-packages/sklearn/neural_network/_multilayer_perceptron.py:691: ConvergenceWarning: Stochastic Optimizer: Maximum iterations (800) reached and the optimization hasn't converged yet.\n",
      "  warnings.warn(\n"
     ]
    },
    {
     "name": "stdout",
     "output_type": "stream",
     "text": [
      "Testing...\n",
      "MSE   train: 361.631607   validation: 6427.622011\n",
      "R2    train: 0.876739   validation: -1.220290\n",
      "Training MLPRegressor_3 took 214.398274 s\n",
      "Testing on provided data...\n",
      "MSE   test: 5336.007526\n",
      "R2    test: -0.806763\n",
      "-----------------------\n",
      "Model: MLPRegressor_4\n",
      "Training ...\n"
     ]
    },
    {
     "name": "stderr",
     "output_type": "stream",
     "text": [
      "/home/pawel/Documents/studia/magisterka/CKTinderator/venv/lib/python3.11/site-packages/sklearn/neural_network/_multilayer_perceptron.py:691: ConvergenceWarning: Stochastic Optimizer: Maximum iterations (1000) reached and the optimization hasn't converged yet.\n",
      "  warnings.warn(\n"
     ]
    },
    {
     "name": "stdout",
     "output_type": "stream",
     "text": [
      "Testing...\n",
      "MSE   train: 239.871411   validation: 6696.317033\n",
      "R2    train: 0.918254   validation: -1.313555\n",
      "Training MLPRegressor_4 took 224.950246 s\n",
      "Testing on provided data...\n",
      "MSE   test: 5584.159705\n",
      "R2    test: -0.890250\n",
      "-----------------------\n"
     ]
    }
   ],
   "source": [
    "mlp_different_iter_regularizedregressors = [\n",
    "    MLPRegressor(hidden_layer_sizes=(128,64), max_iter=1000, alpha=0.001),\n",
    "    MLPRegressor(hidden_layer_sizes=(128,64), max_iter=1000, alpha=0.01),\n",
    "    MLPRegressor(hidden_layer_sizes=(128,64), max_iter=1000, alpha=0.1),\n",
    "    MLPRegressor(hidden_layer_sizes=(128,64), max_iter=1000, alpha=1),\n",
    "    MLPRegressor(hidden_layer_sizes=(128,64), max_iter=1000, alpha=10),\n",
    "]\n",
    "\n",
    "z_mlp_different_iter_models = train_and_validate(X_z_train, Y_z_train, mlp_different_iter_regressors, X_test=X_z_test, Y_test=Y_z_test)"
   ]
  },
  {
   "cell_type": "code",
   "execution_count": null,
   "metadata": {},
   "outputs": [],
   "source": []
  }
 ],
 "metadata": {
  "kernelspec": {
   "display_name": "venv",
   "language": "python",
   "name": "python3"
  },
  "language_info": {
   "codemirror_mode": {
    "name": "ipython",
    "version": 3
   },
   "file_extension": ".py",
   "mimetype": "text/x-python",
   "name": "python",
   "nbconvert_exporter": "python",
   "pygments_lexer": "ipython3",
   "version": "3.11.4"
  }
 },
 "nbformat": 4,
 "nbformat_minor": 2
}
