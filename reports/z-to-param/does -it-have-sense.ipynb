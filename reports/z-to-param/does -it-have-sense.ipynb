{
 "cells": [
  {
   "cell_type": "code",
   "execution_count": null,
   "metadata": {},
   "outputs": [],
   "source": [
    "from glob import glob\n",
    "import numpy as np\n",
    "import matplotlib.pyplot as plt\n",
    "\n",
    "import torch\n",
    "\n",
    "GLOB_FOR_FILES = \"/media/pawel/DATA/tmp/freddie_mercuries/z*.npy\""
   ]
  },
  {
   "cell_type": "code",
   "execution_count": null,
   "metadata": {},
   "outputs": [],
   "source": [
    "z_files = glob(GLOB_FOR_FILES)\n",
    "z_files"
   ]
  },
  {
   "cell_type": "code",
   "execution_count": null,
   "metadata": {},
   "outputs": [],
   "source": [
    "zs = [np.load(z_file) for z_file in z_files]"
   ]
  },
  {
   "cell_type": "code",
   "execution_count": null,
   "metadata": {},
   "outputs": [],
   "source": [
    "reshaped = [z.reshape((-1, 256)) for z in zs[:5]]"
   ]
  },
  {
   "cell_type": "code",
   "execution_count": null,
   "metadata": {},
   "outputs": [],
   "source": [
    "reshaped"
   ]
  },
  {
   "cell_type": "code",
   "execution_count": null,
   "metadata": {},
   "outputs": [],
   "source": [
    "for z in zs[5:]:\n",
    "    reshaped.append(z)\n",
    "    \n"
   ]
  },
  {
   "cell_type": "code",
   "execution_count": null,
   "metadata": {},
   "outputs": [],
   "source": [
    "# z_out = np.array([[]])\n",
    "# for z_resh in reshaped:\n",
    "    \n",
    "np.save(\"/media/pawel/DATA/tmp/freddie_mercuries/z_out.npy\", np.vstack(reshaped))"
   ]
  },
  {
   "cell_type": "code",
   "execution_count": null,
   "metadata": {},
   "outputs": [],
   "source": [
    "np.load(\"/media/pawel/DATA/tmp/freddie_mercuries/z_out.npy\")"
   ]
  },
  {
   "cell_type": "markdown",
   "metadata": {},
   "source": [
    "# Do we have something sensible persisted as z?"
   ]
  },
  {
   "cell_type": "code",
   "execution_count": null,
   "metadata": {},
   "outputs": [],
   "source": [
    "from find_z import load_generator, load_landmarks_model\n",
    "from pathlib import Path\n",
    "from PIL import Image\n",
    "LATENT_DIM = 256\n",
    "\n",
    "def prep_tensor_to_show(tensor):\n",
    "    return tensor.permute(1, 2, 0).detach().to('cpu').numpy()\n",
    "\n",
    "def show_tensor_picture(tensor, title=\"\"):\n",
    "    im_arr = prep_tensor_to_show(tensor)\n",
    "    plt.title(title)\n",
    "    plt.axis(\"off\")\n",
    "    plt.imshow(im_arr)\n",
    "    \n",
    "\n",
    "def plot_images(images, labels, nrows, ncols, step=1, title=\"\", figsize=[8, 4]):\n",
    "    \"\"\"Plot nrows x ncols images from images and set labels as titles.\"\"\"\n",
    "    fig, axes = plt.subplots(nrows=nrows, ncols=ncols, figsize=figsize)\n",
    "    for i, ax in enumerate(axes.flat):\n",
    "        idx = i * step\n",
    "        if images[i].shape[-1] == 1:\n",
    "            ax.imshow((images[i]).reshape(images[idx].shape[0], images[idx].shape[1]))\n",
    "        else:\n",
    "            ax.imshow((images[idx]))\n",
    "        ax.set_xticks([])\n",
    "        ax.set_yticks([])\n",
    "        ax.set_title(labels[idx])\n",
    "    fig.suptitle(title)\n",
    "    plt.tight_layout()\n",
    "    # plt.savefig(f\"{title}.png\")\n",
    "    plt.show()\n",
    "    \n"
   ]
  },
  {
   "cell_type": "code",
   "execution_count": null,
   "metadata": {},
   "outputs": [],
   "source": [
    "original_images = [np.array(Image.open(Path(p))) for p in sorted(glob(\"/media/pawel/DATA/tmp/freddie_mercuries/en_face/aligned/*\"))[:6]]\n",
    "\n",
    "generator = load_generator()\n",
    "z = torch.from_numpy(np.load(\"/media/pawel/DATA/tmp/freddie_mercuries/z_out.npy\")).cuda(0)\n",
    "\n",
    "generated_images = [prep_tensor_to_show(g) for g in generator(z[:6, :])]\n",
    "\n",
    "for original, generated in zip(original_images, generated_images):\n",
    "    plot_images([original, generated], [\"original\", \"backtracked\"], 1, 2)"
   ]
  },
  {
   "cell_type": "code",
   "execution_count": null,
   "metadata": {},
   "outputs": [],
   "source": [
    "original_images = [np.array(Image.open(Path(p))) for p in sorted(glob(\"/media/pawel/DATA/tmp/freddie_mercuries/en_face/aligned/*\"))[120:126]]\n",
    "\n",
    "generator = load_generator()\n",
    "z = torch.from_numpy(np.load(\"/media/pawel/DATA/tmp/freddie_mercuries/z_new.npy\")).cuda(0)\n",
    "\n",
    "generated_images = [prep_tensor_to_show(g) for g in generator(z[:6, :])]\n",
    "\n",
    "for original, generated in zip(original_images, generated_images):\n",
    "    plot_images([original, generated], [\"original\", \"backtracked\"], 1, 2)\n",
    "    "
   ]
  },
  {
   "cell_type": "code",
   "execution_count": null,
   "metadata": {},
   "outputs": [],
   "source": [
    "original_images = [np.array(Image.open(Path(p))) for p in sorted(glob(\"/media/pawel/DATA/tmp/freddie_mercuries/en_face/aligned/*\"))[:8]]\n",
    "\n",
    "generator = load_generator()\n",
    "z = torch.from_numpy(np.load(\"/media/pawel/DATA/tmp/freddie_mercuries/z_smaller_lr.npy\")).cuda(0)\n",
    "\n",
    "generated_images = [prep_tensor_to_show(g) for g in generator(z[:8, :])]\n",
    "\n",
    "for original, generated in zip(original_images, generated_images):\n",
    "    plot_images([original, generated], [\"original\", \"backtracked\"], 1, 2)"
   ]
  },
  {
   "cell_type": "code",
   "execution_count": null,
   "metadata": {},
   "outputs": [],
   "source": [
    "original_images = [np.array(Image.open(Path(p))) for p in sorted(glob(\"/media/pawel/DATA/tmp/freddie_mercuries/en_face/aligned/*\"))[:8]]\n",
    "\n",
    "generator = load_generator()\n",
    "z = torch.from_numpy(np.load(\"/media/pawel/DATA/tmp/freddie_mercuries/z_pix_and_landmarks.npy\")).cuda(0)\n",
    "\n",
    "generated_images = [prep_tensor_to_show(g) for g in generator(z[:8, :])]\n",
    "\n",
    "for original, generated in zip(original_images, generated_images):\n",
    "    plot_images([original, generated], [\"original\", \"backtracked\"], 1, 2)"
   ]
  },
  {
   "cell_type": "code",
   "execution_count": null,
   "metadata": {},
   "outputs": [],
   "source": [
    "original_images = [np.array(Image.open(Path(p))) for p in sorted(glob(\"/media/pawel/DATA/tmp/freddie_mercuries/en_face/aligned/*\"))[:8]]\n",
    "\n",
    "generator = load_generator()\n",
    "z = torch.from_numpy(np.load(\"/media/pawel/DATA/tmp/freddie_mercuries/z_pix_more_and_landmarks.npy\")).cuda(0)\n",
    "\n",
    "generated_images = [prep_tensor_to_show(g) for g in generator(z[:8, :])]\n",
    "\n",
    "for original, generated in zip(original_images, generated_images):\n",
    "    plot_images([original, generated], [\"original\", \"backtracked\"], 1, 2)"
   ]
  },
  {
   "cell_type": "code",
   "execution_count": null,
   "metadata": {},
   "outputs": [],
   "source": [
    "original_images = [np.array(Image.open(Path(p))) for p in sorted(glob(\"/media/pawel/DATA/tmp/freddie_mercuries/en_face/aligned/*\"))[:8]]\n",
    "\n",
    "generator = load_generator()\n",
    "z = torch.from_numpy(np.load(\"/media/pawel/DATA/tmp/freddie_mercuries/z_pix_even_more_and_landmarks.npy\")).cuda(0)\n",
    "\n",
    "generated_images = [prep_tensor_to_show(g) for g in generator(z[:8, :])]\n",
    "\n",
    "for original, generated in zip(original_images, generated_images):\n",
    "    plot_images([original, generated], [\"original\", \"backtracked\"], 1, 2)"
   ]
  },
  {
   "cell_type": "code",
   "execution_count": null,
   "metadata": {},
   "outputs": [],
   "source": [
    "original_images = [np.array(Image.open(Path(p))) for p in sorted(glob(\"/media/pawel/DATA/tmp/freddie_mercuries/en_face/aligned/*\"))[:8]]\n",
    "\n",
    "generator = load_generator()\n",
    "z = torch.from_numpy(np.load(\"/media/pawel/DATA/tmp/freddie_mercuries/z_less_iter.npy\")).cuda(0)\n",
    "\n",
    "generated_images = [prep_tensor_to_show(g) for g in generator(z[:8, :])]\n",
    "\n",
    "for original, generated in zip(original_images, generated_images):\n",
    "    plot_images([original, generated], [\"original\", \"backtracked\"], 1, 2)"
   ]
  },
  {
   "cell_type": "code",
   "execution_count": null,
   "metadata": {},
   "outputs": [],
   "source": []
  }
 ],
 "metadata": {
  "kernelspec": {
   "display_name": "venv",
   "language": "python",
   "name": "python3"
  },
  "language_info": {
   "codemirror_mode": {
    "name": "ipython",
    "version": 3
   },
   "file_extension": ".py",
   "mimetype": "text/x-python",
   "name": "python",
   "nbconvert_exporter": "python",
   "pygments_lexer": "ipython3",
   "version": "3.11.4"
  }
 },
 "nbformat": 4,
 "nbformat_minor": 2
}
